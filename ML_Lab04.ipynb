{
  "nbformat": 4,
  "nbformat_minor": 0,
  "metadata": {
    "colab": {
      "name": "ML_LAB4.ipynb",
      "provenance": [],
      "collapsed_sections": []
    },
    "kernelspec": {
      "name": "python3",
      "display_name": "Python 3"
    },
    "language_info": {
      "name": "python"
    }
  },
  "cells": [
    {
      "cell_type": "markdown",
      "source": [
        "Apple Prediction"
      ],
      "metadata": {
        "id": "x0ECo4JhZmEl"
      }
    },
    {
      "cell_type": "code",
      "source": [
        "import numpy as np\n",
        "import torch\n",
        "from torch.utils.data import TensorDataset,DataLoader"
      ],
      "metadata": {
        "id": "V5hIiUUIb2Ou"
      },
      "execution_count": 12,
      "outputs": []
    },
    {
      "cell_type": "code",
      "source": [
        "inputs = np.array([[73, 67, 43],\n",
        "[91, 88, 64],\n",
        "[87, 134, 58],\n",
        "[102, 43, 37],\n",
        "[69, 96, 70]], dtype='float32')\n",
        "\n",
        "targets = np.array([[56],\n",
        "[81],\n",
        "[119],\n",
        "[22],\n",
        "[103]], dtype='float32')"
      ],
      "metadata": {
        "id": "hkK9LzaNcDI9"
      },
      "execution_count": 11,
      "outputs": []
    },
    {
      "cell_type": "code",
      "source": [
        "inputs = torch.from_numpy(inputs)\n",
        "targets = torch.from_numpy(targets)\n",
        "print(inputs)\n",
        "print(targets)\n",
        "dataset=TensorDataset(inputs,targets)\n",
        "dataset[:3]"
      ],
      "metadata": {
        "colab": {
          "base_uri": "https://localhost:8080/"
        },
        "id": "GxyZ2ZLWsSlg",
        "outputId": "807616ce-fa4c-45c2-b0af-115f389423c6"
      },
      "execution_count": 13,
      "outputs": [
        {
          "output_type": "stream",
          "name": "stdout",
          "text": [
            "tensor([[ 73.,  67.,  43.],\n",
            "        [ 91.,  88.,  64.],\n",
            "        [ 87., 134.,  58.],\n",
            "        [102.,  43.,  37.],\n",
            "        [ 69.,  96.,  70.]])\n",
            "tensor([[ 56.],\n",
            "        [ 81.],\n",
            "        [119.],\n",
            "        [ 22.],\n",
            "        [103.]])\n"
          ]
        },
        {
          "output_type": "execute_result",
          "data": {
            "text/plain": [
              "(tensor([[ 73.,  67.,  43.],\n",
              "         [ 91.,  88.,  64.],\n",
              "         [ 87., 134.,  58.]]), tensor([[ 56.],\n",
              "         [ 81.],\n",
              "         [119.]]))"
            ]
          },
          "metadata": {},
          "execution_count": 13
        }
      ]
    },
    {
      "cell_type": "code",
      "source": [
        "batch_size = 3\n",
        "trainLoader = DataLoader(dataset, batch_size=batch_size)\n",
        "for inp,target in trainLoader:\n",
        "    print(inp)\n",
        "    print(target)\n",
        "    break"
      ],
      "metadata": {
        "colab": {
          "base_uri": "https://localhost:8080/"
        },
        "id": "XWyxVuo5lc5f",
        "outputId": "d2caf67e-c56f-4b03-be97-26fc495840dc"
      },
      "execution_count": 14,
      "outputs": [
        {
          "output_type": "stream",
          "name": "stdout",
          "text": [
            "tensor([[ 73.,  67.,  43.],\n",
            "        [ 91.,  88.,  64.],\n",
            "        [ 87., 134.,  58.]])\n",
            "tensor([[ 56.],\n",
            "        [ 81.],\n",
            "        [119.]])\n"
          ]
        }
      ]
    },
    {
      "cell_type": "code",
      "source": [
        "w= torch.randn(2,3,requires_grad=True)#Creating random array of specified size\n",
        "b=torch.randn(2,requires_grad=True)\n",
        "#Creating Model\n",
        "def model(X):\n",
        "    return X @ w.t() + b #@ is used for atrix multiplication\n",
        "                         #X=inputs, W=weights(Transposed), b=Bias\n",
        "predicts = model(inputs)\n",
        "print(predicts)\n",
        "print(targets)"
      ],
      "metadata": {
        "colab": {
          "base_uri": "https://localhost:8080/"
        },
        "id": "8l6u0PjZl5Fg",
        "outputId": "63a88084-aaba-45ce-c159-b5342aa7195b"
      },
      "execution_count": 19,
      "outputs": [
        {
          "output_type": "stream",
          "name": "stdout",
          "text": [
            "tensor([[-117.5505, -143.7777],\n",
            "        [-166.3528, -190.6685],\n",
            "        [-307.2632, -213.6426],\n",
            "        [   0.3235, -148.3155],\n",
            "        [-225.8670, -181.4369]], grad_fn=<AddBackward0>)\n",
            "tensor([[ 56.],\n",
            "        [ 81.],\n",
            "        [119.],\n",
            "        [ 22.],\n",
            "        [103.]])\n"
          ]
        }
      ]
    },
    {
      "cell_type": "code",
      "source": [
        "#Loss Function Implemantation\n",
        "def mseLoss(predict, targets):\n",
        "    difference = predict - targets\n",
        "    return torch.sum(difference * difference)/ difference.numel() #numel() returns the length of the input tensor\n",
        "loss = mseLoss(predicts, targets)\n",
        "print(loss)"
      ],
      "metadata": {
        "colab": {
          "base_uri": "https://localhost:8080/"
        },
        "id": "h4QFrXcXnDVn",
        "outputId": "74f53b2a-c95a-4128-9270-119bebf49cc3"
      },
      "execution_count": 20,
      "outputs": [
        {
          "output_type": "stream",
          "name": "stdout",
          "text": [
            "tensor(71590.4531, grad_fn=<DivBackward0>)\n"
          ]
        }
      ]
    },
    {
      "cell_type": "code",
      "source": [
        "#Gradient \n",
        "# loss.backward()\n",
        "print(w)\n",
        "print(w.grad)"
      ],
      "metadata": {
        "colab": {
          "base_uri": "https://localhost:8080/"
        },
        "id": "10D38lZRoF8H",
        "outputId": "7d746598-cd3f-44ea-d21f-3586ab310815"
      },
      "execution_count": null,
      "outputs": [
        {
          "output_type": "stream",
          "name": "stdout",
          "text": [
            "tensor([[ 0.2368, -0.6910, -1.8332],\n",
            "        [-1.1044, -1.2650,  1.4704]], requires_grad=True)\n",
            "tensor([[-17623.8281, -20471.7383, -12482.9502],\n",
            "        [-16686.7227, -18671.2520, -11190.2676]])\n"
          ]
        }
      ]
    },
    {
      "cell_type": "code",
      "source": [
        "w.grad.zero_()# reseting to zero\n",
        "b.grad.zero_()\n",
        "print(w.grad)\n",
        "print(b.grad)"
      ],
      "metadata": {
        "colab": {
          "base_uri": "https://localhost:8080/"
        },
        "id": "Whbazra0tGRa",
        "outputId": "51b7fd76-55e5-408e-c8d8-4e901f831ae9"
      },
      "execution_count": null,
      "outputs": [
        {
          "output_type": "stream",
          "name": "stdout",
          "text": [
            "tensor([[0., 0., 0.],\n",
            "        [0., 0., 0.]])\n",
            "tensor([0., 0.])\n"
          ]
        }
      ]
    },
    {
      "cell_type": "code",
      "source": [
        "predicts=model(inputs)\n",
        "print(predicts)"
      ],
      "metadata": {
        "colab": {
          "base_uri": "https://localhost:8080/"
        },
        "id": "R8QKPnKitPCo",
        "outputId": "b6a322d9-ed47-4036-be75-1bbb3b1459c7"
      },
      "execution_count": null,
      "outputs": [
        {
          "output_type": "stream",
          "name": "stdout",
          "text": [
            "tensor([[-106.7262, -103.0727],\n",
            "        [-155.4745, -118.6401],\n",
            "        [-177.2102, -181.2342],\n",
            "        [ -72.2755, -113.5640],\n",
            "        [-177.2110,  -95.6399]], grad_fn=<AddBackward0>)\n"
          ]
        }
      ]
    },
    {
      "cell_type": "code",
      "source": [
        "loss=mseLoss(predicts,targets)\n",
        "print(loss)"
      ],
      "metadata": {
        "colab": {
          "base_uri": "https://localhost:8080/"
        },
        "id": "IzD7Il6ztW9w",
        "outputId": "684f1ac0-feba-4ede-e131-b871c6255a13"
      },
      "execution_count": null,
      "outputs": [
        {
          "output_type": "stream",
          "name": "stdout",
          "text": [
            "tensor(47068.2852, grad_fn=<DivBackward0>)\n"
          ]
        }
      ]
    },
    {
      "cell_type": "code",
      "source": [
        "loss.backward() # mean-squared error between the inputs and the targets\n",
        "print(w)\n",
        "print(w.grad)"
      ],
      "metadata": {
        "colab": {
          "base_uri": "https://localhost:8080/"
        },
        "id": "KJbl5_8uthQQ",
        "outputId": "8a0f1bfe-b17a-412e-d423-87517643b154"
      },
      "execution_count": null,
      "outputs": [
        {
          "output_type": "stream",
          "name": "stdout",
          "text": [
            "tensor([[ 0.2368, -0.6910, -1.8332],\n",
            "        [-1.1044, -1.2650,  1.4704]], requires_grad=True)\n",
            "tensor([[-17623.8281, -20471.7383, -12482.9502],\n",
            "        [-16686.7227, -18671.2520, -11190.2676]])\n"
          ]
        }
      ]
    },
    {
      "cell_type": "code",
      "source": [
        "with torch.no_grad():\n",
        "    w -= w.grad * 1e-5\n",
        "    b -= b.grad * 1e-5\n",
        "    w.grad.zero_()\n",
        "    b.grad.zero_()\n",
        "\n",
        "print(w)\n",
        "print(b)"
      ],
      "metadata": {
        "colab": {
          "base_uri": "https://localhost:8080/"
        },
        "id": "-GMcS5ekto9I",
        "outputId": "4ea088db-fe6b-4036-f46f-abc9aa3ec019"
      },
      "execution_count": null,
      "outputs": [
        {
          "output_type": "stream",
          "name": "stdout",
          "text": [
            "tensor([[ 0.4130, -0.4863, -1.7084],\n",
            "        [-0.9376, -1.0783,  1.5823]], requires_grad=True)\n",
            "tensor([ 1.1217, -0.9168], requires_grad=True)\n"
          ]
        }
      ]
    },
    {
      "cell_type": "code",
      "source": [
        "#Less Loss with new weights and new bias\n",
        "predicts=model(inputs)\n",
        "loss=mseLoss(predicts,targets)\n",
        "print(loss) # previous one was tensor(47068.2852, grad_fn=<DivBackward0>)"
      ],
      "metadata": {
        "colab": {
          "base_uri": "https://localhost:8080/"
        },
        "id": "92PNxoSltxHo",
        "outputId": "cc1c7643-7eaa-46f1-b087-a562c58e9612"
      },
      "execution_count": null,
      "outputs": [
        {
          "output_type": "stream",
          "name": "stdout",
          "text": [
            "tensor(32154.8711, grad_fn=<DivBackward0>)\n"
          ]
        }
      ]
    },
    {
      "cell_type": "code",
      "source": [
        "epochs = 100\n",
        "for i in range(epochs):\n",
        "    for k,l in trainLoader:\n",
        "        predicts = model(k)\n",
        "        loss = mseLoss(predicts, l)\n",
        "        loss.backward()\n",
        "        with torch.no_grad():\n",
        "            w -= w.grad *1e-6\n",
        "            b -= b.grad * 1e-6\n",
        "            # Setting gradients as zero\n",
        "            w.grad.zero_()\n",
        "            b.grad.zero_()\n",
        "    print(f\"Epoch  {i} / {epochs}: ,Loss: {loss}\")"
      ],
      "metadata": {
        "colab": {
          "base_uri": "https://localhost:8080/"
        },
        "id": "KDx4VcrWnT2m",
        "outputId": "f2551448-2949-4cac-aa32-8bffa624cffa"
      },
      "execution_count": 44,
      "outputs": [
        {
          "output_type": "stream",
          "name": "stdout",
          "text": [
            "Epoch  0 / 100: ,Loss: 557.9639892578125\n",
            "Epoch  1 / 100: ,Loss: 556.3771362304688\n",
            "Epoch  2 / 100: ,Loss: 554.7951049804688\n",
            "Epoch  3 / 100: ,Loss: 553.2174682617188\n",
            "Epoch  4 / 100: ,Loss: 551.6444702148438\n",
            "Epoch  5 / 100: ,Loss: 550.0759887695312\n",
            "Epoch  6 / 100: ,Loss: 548.5120849609375\n",
            "Epoch  7 / 100: ,Loss: 546.9527587890625\n",
            "Epoch  8 / 100: ,Loss: 545.3978881835938\n",
            "Epoch  9 / 100: ,Loss: 543.8475341796875\n",
            "Epoch  10 / 100: ,Loss: 542.3016967773438\n",
            "Epoch  11 / 100: ,Loss: 540.7603759765625\n",
            "Epoch  12 / 100: ,Loss: 539.2233276367188\n",
            "Epoch  13 / 100: ,Loss: 537.6908569335938\n",
            "Epoch  14 / 100: ,Loss: 536.1627197265625\n",
            "Epoch  15 / 100: ,Loss: 534.6390991210938\n",
            "Epoch  16 / 100: ,Loss: 533.1199340820312\n",
            "Epoch  17 / 100: ,Loss: 531.6050415039062\n",
            "Epoch  18 / 100: ,Loss: 530.0945434570312\n",
            "Epoch  19 / 100: ,Loss: 528.5885009765625\n",
            "Epoch  20 / 100: ,Loss: 527.0867919921875\n",
            "Epoch  21 / 100: ,Loss: 525.5894165039062\n",
            "Epoch  22 / 100: ,Loss: 524.0963134765625\n",
            "Epoch  23 / 100: ,Loss: 522.6076049804688\n",
            "Epoch  24 / 100: ,Loss: 521.1231689453125\n",
            "Epoch  25 / 100: ,Loss: 519.64306640625\n",
            "Epoch  26 / 100: ,Loss: 518.1671142578125\n",
            "Epoch  27 / 100: ,Loss: 516.695556640625\n",
            "Epoch  28 / 100: ,Loss: 515.228271484375\n",
            "Epoch  29 / 100: ,Loss: 513.7650756835938\n",
            "Epoch  30 / 100: ,Loss: 512.3062744140625\n",
            "Epoch  31 / 100: ,Loss: 510.851806640625\n",
            "Epoch  32 / 100: ,Loss: 509.4013977050781\n",
            "Epoch  33 / 100: ,Loss: 507.9552001953125\n",
            "Epoch  34 / 100: ,Loss: 506.5130615234375\n",
            "Epoch  35 / 100: ,Loss: 505.0752868652344\n",
            "Epoch  36 / 100: ,Loss: 503.6414794921875\n",
            "Epoch  37 / 100: ,Loss: 502.21185302734375\n",
            "Epoch  38 / 100: ,Loss: 500.7864685058594\n",
            "Epoch  39 / 100: ,Loss: 499.36529541015625\n",
            "Epoch  40 / 100: ,Loss: 497.9479675292969\n",
            "Epoch  41 / 100: ,Loss: 496.5350036621094\n",
            "Epoch  42 / 100: ,Loss: 495.1259765625\n",
            "Epoch  43 / 100: ,Loss: 493.7209167480469\n",
            "Epoch  44 / 100: ,Loss: 492.3202209472656\n",
            "Epoch  45 / 100: ,Loss: 490.92333984375\n",
            "Epoch  46 / 100: ,Loss: 489.5305480957031\n",
            "Epoch  47 / 100: ,Loss: 488.1418151855469\n",
            "Epoch  48 / 100: ,Loss: 486.75714111328125\n",
            "Epoch  49 / 100: ,Loss: 485.3763122558594\n",
            "Epoch  50 / 100: ,Loss: 483.9996643066406\n",
            "Epoch  51 / 100: ,Loss: 482.626953125\n",
            "Epoch  52 / 100: ,Loss: 481.2583312988281\n",
            "Epoch  53 / 100: ,Loss: 479.893310546875\n",
            "Epoch  54 / 100: ,Loss: 478.5325927734375\n",
            "Epoch  55 / 100: ,Loss: 477.1755065917969\n",
            "Epoch  56 / 100: ,Loss: 475.82257080078125\n",
            "Epoch  57 / 100: ,Loss: 474.4736633300781\n",
            "Epoch  58 / 100: ,Loss: 473.12835693359375\n",
            "Epoch  59 / 100: ,Loss: 471.7870178222656\n",
            "Epoch  60 / 100: ,Loss: 470.4496765136719\n",
            "Epoch  61 / 100: ,Loss: 469.11614990234375\n",
            "Epoch  62 / 100: ,Loss: 467.7864074707031\n",
            "Epoch  63 / 100: ,Loss: 466.46063232421875\n",
            "Epoch  64 / 100: ,Loss: 465.1386413574219\n",
            "Epoch  65 / 100: ,Loss: 463.8204650878906\n",
            "Epoch  66 / 100: ,Loss: 462.50604248046875\n",
            "Epoch  67 / 100: ,Loss: 461.1954345703125\n",
            "Epoch  68 / 100: ,Loss: 459.8887023925781\n",
            "Epoch  69 / 100: ,Loss: 458.58563232421875\n",
            "Epoch  70 / 100: ,Loss: 457.2864074707031\n",
            "Epoch  71 / 100: ,Loss: 455.9910888671875\n",
            "Epoch  72 / 100: ,Loss: 454.6992492675781\n",
            "Epoch  73 / 100: ,Loss: 453.4114074707031\n",
            "Epoch  74 / 100: ,Loss: 452.12701416015625\n",
            "Epoch  75 / 100: ,Loss: 450.84649658203125\n",
            "Epoch  76 / 100: ,Loss: 449.5697021484375\n",
            "Epoch  77 / 100: ,Loss: 448.2964172363281\n",
            "Epoch  78 / 100: ,Loss: 447.0271301269531\n",
            "Epoch  79 / 100: ,Loss: 445.7612609863281\n",
            "Epoch  80 / 100: ,Loss: 444.49908447265625\n",
            "Epoch  81 / 100: ,Loss: 443.2408447265625\n",
            "Epoch  82 / 100: ,Loss: 441.9859313964844\n",
            "Epoch  83 / 100: ,Loss: 440.7347106933594\n",
            "Epoch  84 / 100: ,Loss: 439.487060546875\n",
            "Epoch  85 / 100: ,Loss: 438.2430419921875\n",
            "Epoch  86 / 100: ,Loss: 437.002685546875\n",
            "Epoch  87 / 100: ,Loss: 435.7657775878906\n",
            "Epoch  88 / 100: ,Loss: 434.5326232910156\n",
            "Epoch  89 / 100: ,Loss: 433.3030090332031\n",
            "Epoch  90 / 100: ,Loss: 432.0768127441406\n",
            "Epoch  91 / 100: ,Loss: 430.8544006347656\n",
            "Epoch  92 / 100: ,Loss: 429.6354064941406\n",
            "Epoch  93 / 100: ,Loss: 428.41986083984375\n",
            "Epoch  94 / 100: ,Loss: 427.2079772949219\n",
            "Epoch  95 / 100: ,Loss: 425.9995422363281\n",
            "Epoch  96 / 100: ,Loss: 424.7945861816406\n",
            "Epoch  97 / 100: ,Loss: 423.5929260253906\n",
            "Epoch  98 / 100: ,Loss: 422.3949279785156\n",
            "Epoch  99 / 100: ,Loss: 421.20050048828125\n"
          ]
        }
      ]
    },
    {
      "cell_type": "code",
      "source": [
        "for i,j in trainLoader:\n",
        "    predicts = model(i)\n",
        "    print(\"Predictions:\\n\",predicts)\n",
        "    print(\"Actual Target:\\n\",j)\n",
        "    break"
      ],
      "metadata": {
        "colab": {
          "base_uri": "https://localhost:8080/"
        },
        "id": "2nvy0NbhrUJ_",
        "outputId": "cada1670-c319-4f30-ff15-94d655006376"
      },
      "execution_count": 49,
      "outputs": [
        {
          "output_type": "stream",
          "name": "stdout",
          "text": [
            "Predictions:\n",
            " tensor([[ 62.8284,  59.1018],\n",
            "        [ 85.7285,  79.8701],\n",
            "        [ 94.5164, 123.0011]], grad_fn=<AddBackward0>)\n",
            "Actual Target:\n",
            " tensor([[ 56.],\n",
            "        [ 81.],\n",
            "        [119.]])\n"
          ]
        }
      ]
    }
  ]
}