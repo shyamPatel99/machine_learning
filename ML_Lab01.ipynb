{
  "cells": [
    {
      "cell_type": "markdown",
      "metadata": {
        "id": "EOFHwxZ8XSbI"
      },
      "source": [
        "Create a Numpy array of size 4 x 5."
      ]
    },
    {
      "cell_type": "code",
      "execution_count": 14,
      "metadata": {
        "colab": {
          "base_uri": "https://localhost:8080/"
        },
        "id": "hZr1SsG2XTnw",
        "outputId": "393d1237-d362-4f96-b0d4-4dc9706da353"
      },
      "outputs": [
        {
          "name": "stdout",
          "output_type": "stream",
          "text": [
            "[[1 2 3 4 5]\n",
            " [5 4 3 2 1]\n",
            " [6 7 8 9 0]\n",
            " [0 9 8 7 6]]\n"
          ]
        }
      ],
      "source": [
        "import numpy as np\n",
        "import pandas as pd\n",
        "import matplotlib.pyplot as plt\n",
        "mat1=np.array([[1,2,3,4,5],[5,4,3,2,1],[6,7,8,9,0],[0,9,8,7,6]])\n",
        "res=np.matrix(mat1)\n",
        "print(res)"
      ]
    },
    {
      "cell_type": "markdown",
      "metadata": {
        "id": "FFybMhLGY4VS"
      },
      "source": [
        "Randomly initialize the array."
      ]
    },
    {
      "cell_type": "code",
      "execution_count": 15,
      "metadata": {
        "colab": {
          "base_uri": "https://localhost:8080/"
        },
        "id": "YQBa24joY7o5",
        "outputId": "6820ef93-faf6-4284-ce99-bb466167eb19"
      },
      "outputs": [
        {
          "data": {
            "text/plain": [
              "array([[0.77765267, 0.62822586],\n",
              "       [0.70159876, 0.75728357]])"
            ]
          },
          "execution_count": 15,
          "metadata": {},
          "output_type": "execute_result"
        }
      ],
      "source": [
        "np.random.rand(2,2)"
      ]
    },
    {
      "cell_type": "markdown",
      "metadata": {
        "id": "yfuEU1ggaf3p"
      },
      "source": [
        "Get the Transpose of the Matrix that you created. Create a square matrix and find its determinant."
      ]
    },
    {
      "cell_type": "code",
      "execution_count": 16,
      "metadata": {
        "colab": {
          "base_uri": "https://localhost:8080/"
        },
        "id": "1s0WdCYkajw5",
        "outputId": "a04d4b61-2241-4c12-b043-860ed7ac77f0"
      },
      "outputs": [
        {
          "name": "stdout",
          "output_type": "stream",
          "text": [
            "Original Matrix:\n",
            "\n",
            "[[11 12]\n",
            " [13 14]\n",
            " [15 16]]\n",
            "\n",
            "Transpose Of The Matix:\n",
            "\n",
            "[[11 13 15]\n",
            " [12 14 16]]\n",
            "[[11 12]\n",
            " [13 14]]\n",
            "\n",
            "\n",
            "Determinent: \n",
            "\n",
            "[[11 12]\n",
            " [13 14]]\n"
          ]
        }
      ],
      "source": [
        "mat2=np.array([[11,12],[13,14],[15,16]])\n",
        "print(\"Original Matrix:\\n\")\n",
        "print(mat2)\n",
        "print(\"\\nTranspose Of The Matix:\\n\")\n",
        "print(mat2.T)\n",
        "\n",
        "mat3=np.array([[11,12],[13,14]])\n",
        "print(mat3)\n",
        "print(\"\\n\")\n",
        "detmin=np.linalg.det(mat3)\n",
        "print(\"Determinent: \\n\")\n",
        "print(mat3)"
      ]
    },
    {
      "cell_type": "markdown",
      "metadata": {
        "id": "uZZ4i7fzcZ-C"
      },
      "source": [
        "Create another matrix of size 5 x 4 and randomly initialize it."
      ]
    },
    {
      "cell_type": "code",
      "execution_count": 17,
      "metadata": {
        "colab": {
          "base_uri": "https://localhost:8080/"
        },
        "id": "FekZDxZicbVJ",
        "outputId": "de5d6c9f-3f45-4969-8c75-cc8d159e870a"
      },
      "outputs": [
        {
          "name": "stdout",
          "output_type": "stream",
          "text": [
            "[[0.34571976 0.80978295 0.9963308  0.87043305]\n",
            " [0.67086995 0.79925102 0.79213337 0.17724994]\n",
            " [0.00692331 0.23058152 0.59611726 0.30820863]\n",
            " [0.82268681 0.36223118 0.21674806 0.00173416]\n",
            " [0.55321713 0.10597468 0.46466274 0.68048033]]\n"
          ]
        }
      ],
      "source": [
        "rand1=np.matrix(np.random.rand(5,4))\n",
        "print(rand1)"
      ]
    },
    {
      "cell_type": "markdown",
      "metadata": {
        "id": "xEZhn61qfIMy"
      },
      "source": [
        "Perform Matrix multiplication."
      ]
    },
    {
      "cell_type": "code",
      "execution_count": 18,
      "metadata": {
        "colab": {
          "base_uri": "https://localhost:8080/"
        },
        "id": "5aSS_DjYfKra",
        "outputId": "8157716b-9e04-4891-d835-978d8d3c4cce"
      },
      "outputs": [
        {
          "name": "stdout",
          "output_type": "stream",
          "text": [
            "First Matrix:\n",
            "\n",
            "[[2 2]\n",
            " [2 2]]\n",
            "Second Matrix:\n",
            "\n",
            "[[3 4]\n",
            " [5 6]]\n",
            "\n",
            "\n",
            "Multiplication Of Matrix:\n",
            "\n",
            "[[16 20]\n",
            " [16 20]]\n"
          ]
        }
      ],
      "source": [
        "mat1=np.array([[2,2],[2,2]])\n",
        "print(\"First Matrix:\\n\")\n",
        "print(mat1)\n",
        "mat2=np.array([[3,4],[5,6]])\n",
        "print(\"Second Matrix:\\n\")\n",
        "print(mat2)\n",
        "print(\"\\n\")\n",
        "res=np.matrix(mat1)*np.matrix(mat2)\n",
        "print(\"Multiplication Of Matrix:\\n\")\n",
        "print(res)"
      ]
    },
    {
      "cell_type": "markdown",
      "metadata": {
        "id": "17zDsPCZgFlB"
      },
      "source": [
        "Perform element wise matrix multiplication."
      ]
    },
    {
      "cell_type": "code",
      "execution_count": 19,
      "metadata": {
        "colab": {
          "base_uri": "https://localhost:8080/"
        },
        "id": "MUMSHbEjgIda",
        "outputId": "e5341214-289c-4a91-d0eb-70881033158f"
      },
      "outputs": [
        {
          "name": "stdout",
          "output_type": "stream",
          "text": [
            "First Matrix:\n",
            "\n",
            "[[2 2]\n",
            " [2 2]]\n",
            "Second Matrix:\n",
            "\n",
            "[[3 4]\n",
            " [5 6]]\n",
            "\n",
            "\n",
            "Multiplication Of Matrix:\n",
            "\n",
            "[[ 6  8]\n",
            " [10 12]]\n"
          ]
        }
      ],
      "source": [
        "mat4=np.array([[2,2],[2,2]])\n",
        "print(\"First Matrix:\\n\")\n",
        "print(mat4)\n",
        "mat5=np.array([[3,4],[5,6]])\n",
        "print(\"Second Matrix:\\n\")\n",
        "print(mat5)\n",
        "print(\"\\n\")\n",
        "res2=np.multiply(mat4,mat5)\n",
        "print(\"Multiplication Of Matrix:\\n\")\n",
        "print(res2)"
      ]
    },
    {
      "cell_type": "markdown",
      "metadata": {
        "id": "g5hVnI19h1Jr"
      },
      "source": [
        "Find mean, median of the numpy array created."
      ]
    },
    {
      "cell_type": "code",
      "execution_count": 20,
      "metadata": {
        "colab": {
          "base_uri": "https://localhost:8080/"
        },
        "id": "9Dg-Cgrch3zq",
        "outputId": "fc7a384e-8aa2-4acc-d707-11a0532c7c6a"
      },
      "outputs": [
        {
          "name": "stdout",
          "output_type": "stream",
          "text": [
            "[[ 2  1]\n",
            " [ 2 -2]\n",
            " [ 3 -3]]\n",
            "Mean:\n",
            " 0.5\n",
            "Median:\n",
            " 1.5\n"
          ]
        }
      ],
      "source": [
        "#mean of the matrix\n",
        "MatArr=np.array([[2, 1], [2, -2], [3, -3]])\n",
        "print(MatArr)\n",
        "print(\"Mean:\\n\",np.mean(MatArr))\n",
        "print(\"Median:\\n\",np.median(MatArr))"
      ]
    },
    {
      "cell_type": "markdown",
      "metadata": {
        "id": "AytpQFx6jRCL"
      },
      "source": [
        "Obtain each row in the second column of the first array."
      ]
    },
    {
      "cell_type": "code",
      "execution_count": 21,
      "metadata": {
        "colab": {
          "base_uri": "https://localhost:8080/"
        },
        "id": "V2NjtMPYkJEq",
        "outputId": "e62f426a-15bf-4e12-a31a-05c5a9513f7a"
      },
      "outputs": [
        {
          "name": "stdout",
          "output_type": "stream",
          "text": [
            "[[1 2 3 4 5]\n",
            " [5 4 3 2 1]\n",
            " [6 7 8 9 0]\n",
            " [0 9 8 7 6]]\n",
            "Each Row in Second Column: [2 4 7 9]\n"
          ]
        }
      ],
      "source": [
        "Mat2=np.array([[1,2,3,4,5],[5,4,3,2,1],[6,7,8,9,0],[0,9,8,7,6]])\n",
        "print(Mat2)\n",
        "print(\"Each Row in Second Column:\",Mat2[0:,1])"
      ]
    },
    {
      "cell_type": "markdown",
      "metadata": {
        "id": "xVnfYkdvlxZL"
      },
      "source": [
        "Convert Numeric entries(columns) of Iris.csv to Mean Centered Version"
      ]
    },
    {
      "cell_type": "code",
      "execution_count": 22,
      "metadata": {
        "colab": {
          "base_uri": "https://localhost:8080/"
        },
        "id": "yfIVRmHZl5hr",
        "outputId": "e737967e-d725-4b3c-c64d-a43afeb918fb"
      },
      "outputs": [
        {
          "name": "stdout",
          "output_type": "stream",
          "text": [
            "[[-1.75 -0.8250000000000002 -0.050000000000000266 0.7000000000000002 1.25]\n",
            " [2.3499999999999996 2.075 1.65 1.2999999999999998 1.25]\n",
            " [0.75 0.17499999999999982 0.1499999999999999 -0.19999999999999973\n",
            "  -0.1499999999999999]\n",
            " [-1.35 -1.4250000000000003 -1.7500000000000002 -1.7999999999999998 -2.35]]\n"
          ]
        }
      ],
      "source": [
        "import pandas as pd\n",
        "import numpy as np\n",
        "data=pd.read_csv('https://raw.githubusercontent.com/ShyamCE/college/main/ML_CE081/Classroom_files/Lab-1/Iris.csv')\n",
        "arr1=np.array(data.head(5))\n",
        "mat5=np.array([arr1[:,0],arr1[:,1],arr1[:,2],arr1[:,3]])\n",
        "res=mat5-np.mean(mat5,axis=0)\n",
        "print(res)"
      ]
    },
    {
      "cell_type": "markdown",
      "metadata": {
        "id": "eD8Ar2zhEPOJ"
      },
      "source": [
        "Study about numpy array attributes and implement it on the first matrix."
      ]
    },
    {
      "cell_type": "code",
      "execution_count": 23,
      "metadata": {
        "colab": {
          "base_uri": "https://localhost:8080/"
        },
        "id": "sc-0G9VVEUX3",
        "outputId": "b6d98404-b70f-40ee-ebfa-88ad7d7855c2"
      },
      "outputs": [
        {
          "name": "stdout",
          "output_type": "stream",
          "text": [
            "[[ 7 -4]]\n"
          ]
        }
      ],
      "source": [
        "mat5=np.matrix([[2, 1], [2, -2], [3, -3]])\n",
        "print(np.sum(mat5,axis=0))"
      ]
    },
    {
      "cell_type": "markdown",
      "metadata": {
        "id": "W030rOJvFc6B"
      },
      "source": [
        "Draw Scatter Plot between SepalLengthCm and SepalWidthCm for \"Iris.csv\" file with proper labelling. "
      ]
    },
    {
      "cell_type": "code",
      "execution_count": 24,
      "metadata": {
        "colab": {
          "base_uri": "https://localhost:8080/",
          "height": 282
        },
        "id": "tCqRaVrRFhU9",
        "outputId": "c0d16953-ad3f-4ca1-bf57-e717d022a8a0"
      },
      "outputs": [
        {
          "data": {
            "image/png": "[encoded data removed]",
            "text/plain": [
              "<Figure size 432x288 with 1 Axes>"
            ]
          },
          "metadata": {
            "needs_background": "light"
          },
          "output_type": "display_data"
        }
      ],
      "source": [
        "import numpy as np\n",
        "import pandas as pd\n",
        "import matplotlib.pyplot as plt\n",
        "\n",
        "str1=[\"1\",\"2\",\"3\",\"4\",\"5\"]\n",
        "X=data['SepalLengthCm']\n",
        "Y=data['SepalWidthCm']\n",
        "plt.scatter(X,Y,s=10,color=\"grey\")\n",
        "plt.xlabel(\"X\")\n",
        "plt.ylabel(\"Y\")\n",
        "for i, label in enumerate(str1):\n",
        "    plt.annotate(label, (X[i], Y[i]))\n",
        "plt.show()"
      ]
    },
    {
      "cell_type": "markdown",
      "metadata": {
        "id": "ypL-VkERGukO"
      },
      "source": [
        "Draw Histogram of SepalLengthCm with proper labelling."
      ]
    },
    {
      "cell_type": "code",
      "execution_count": 25,
      "metadata": {
        "colab": {
          "base_uri": "https://localhost:8080/",
          "height": 279
        },
        "id": "H8ez_u9tI306",
        "outputId": "175de3e1-e2c5-4d30-eb3b-41a261b8036c"
      },
      "outputs": [
        {
          "ename": "NameError",
          "evalue": "name 'ax' is not defined",
          "output_type": "error",
          "traceback": [
            "\u001b[1;31m---------------------------------------------------------------------------\u001b[0m",
            "\u001b[1;31mNameError\u001b[0m                                 Traceback (most recent call last)",
            "\u001b[1;32me:\\Sem-6\\college\\ML_CE081\\Submission\\ML_Lab01.ipynb Cell 24'\u001b[0m in \u001b[0;36m<module>\u001b[1;34m\u001b[0m\n\u001b[0;32m      <a href='vscode-notebook-cell:/e%3A/Sem-6/college/ML_CE081/Submission/ML_Lab01.ipynb#ch0000023?line=5'>6</a>\u001b[0m plt\u001b[39m.\u001b[39mxlabel(\u001b[39m'\u001b[39m\u001b[39mSepalLengthCm\u001b[39m\u001b[39m'\u001b[39m)\n\u001b[0;32m      <a href='vscode-notebook-cell:/e%3A/Sem-6/college/ML_CE081/Submission/ML_Lab01.ipynb#ch0000023?line=6'>7</a>\u001b[0m \u001b[39m# adding labels\u001b[39;00m\n\u001b[1;32m----> <a href='vscode-notebook-cell:/e%3A/Sem-6/college/ML_CE081/Submission/ML_Lab01.ipynb#ch0000023?line=7'>8</a>\u001b[0m ax\u001b[39m.\u001b[39mset_xlabel(\u001b[39m'\u001b[39m\u001b[39mx-label\u001b[39m\u001b[39m'\u001b[39m)\n\u001b[0;32m      <a href='vscode-notebook-cell:/e%3A/Sem-6/college/ML_CE081/Submission/ML_Lab01.ipynb#ch0000023?line=8'>9</a>\u001b[0m ax\u001b[39m.\u001b[39mset_ylabel(\u001b[39m'\u001b[39m\u001b[39my-label\u001b[39m\u001b[39m'\u001b[39m)\n\u001b[0;32m     <a href='vscode-notebook-cell:/e%3A/Sem-6/college/ML_CE081/Submission/ML_Lab01.ipynb#ch0000023?line=10'>11</a>\u001b[0m \u001b[39m# Make some labels.\u001b[39;00m\n",
            "\u001b[1;31mNameError\u001b[0m: name 'ax' is not defined"
          ]
        },
        {
          "data": {
            "image/png": "[encoded data removed]",
            "text/plain": [
              "<Figure size 432x288 with 1 Axes>"
            ]
          },
          "metadata": {
            "needs_background": "light"
          },
          "output_type": "display_data"
        }
      ],
      "source": [
        "import numpy as np\n",
        "import pandas as pd\n",
        "import matplotlib.pyplot as plt\n",
        "# str1=[\"1\",\"2\",\"3\",\"4\",\"5\"]\n",
        "plt.hist(data['SepalLengthCm'],bins=10,color=['orange'])\n",
        "plt.xlabel('SepalLengthCm')\n",
        "# adding labels\n",
        "ax.set_xlabel('x-label')\n",
        "ax.set_ylabel('y-label')\n",
        "  \n",
        "# Make some labels.\n",
        "rects = ax.patches\n",
        "labels = [\"label %d\" % i for i in range(len(rects))]\n",
        "  \n",
        "for rect, label in zip(rects, labels):\n",
        "    height = rect.get_height()\n",
        "    ax.text(rect.get_x() + rect.get_width() / 2, height+0.01, label,ha='center', va='bottom')\n",
        "plt.show()"
      ]
    },
    {
      "cell_type": "markdown",
      "metadata": {
        "id": "TF2_RNShNxYP"
      },
      "source": [
        "Plot bar chart of Species"
      ]
    },
    {
      "cell_type": "code",
      "execution_count": null,
      "metadata": {
        "colab": {
          "base_uri": "https://localhost:8080/",
          "height": 265
        },
        "id": "7UCcbpYnN3Pf",
        "outputId": "d0cf6b7b-564b-497e-ff7b-20131cda6285"
      },
      "outputs": [
        {
          "data": {
            "image/png": "[encoded data removed]",
            "text/plain": [
              "<Figure size 432x288 with 1 Axes>"
            ]
          },
          "metadata": {
            "needs_background": "light"
          },
          "output_type": "display_data"
        }
      ],
      "source": [
        "import numpy as np\n",
        "import pandas as pd\n",
        "import matplotlib.pyplot as plt\n",
        "data=pd.read_csv('https://raw.githubusercontent.com/ShyamCE/college/main/ML_CE081/Classroom_files/Lab-1/Iris.csv')\n",
        "plt.bar(data['Species'],height=1)\n",
        "plt.show()"
      ]
    },
    {
      "cell_type": "markdown",
      "metadata": {
        "id": "Ot5HahZHQiiB"
      },
      "source": [
        "Count total null values for each column in this dataset."
      ]
    },
    {
      "cell_type": "code",
      "execution_count": null,
      "metadata": {
        "colab": {
          "base_uri": "https://localhost:8080/"
        },
        "id": "PeQuojm3Q6Pj",
        "outputId": "86b7b410-d117-45ee-f978-9d55e120be59"
      },
      "outputs": [
        {
          "name": "stdout",
          "output_type": "stream",
          "text": [
            "Null Values:\n",
            " Id               0\n",
            "SepalLengthCm    0\n",
            "SepalWidthCm     0\n",
            "PetalLengthCm    0\n",
            "PetalWidthCm     0\n",
            "Species          0\n",
            "dtype: int64\n"
          ]
        }
      ],
      "source": [
        "print(\"Null Values:\\n\",data.isnull().sum())"
      ]
    },
    {
      "cell_type": "markdown",
      "metadata": {
        "id": "Gzsme54xRg-y"
      },
      "source": [
        "Print first 5 rows of SepalLengthCm. "
      ]
    },
    {
      "cell_type": "code",
      "execution_count": null,
      "metadata": {
        "colab": {
          "base_uri": "https://localhost:8080/"
        },
        "id": "NMAHJ1N7RlOO",
        "outputId": "eb1ee956-ab0a-479a-8866-9cda7deafbf4"
      },
      "outputs": [
        {
          "name": "stdout",
          "output_type": "stream",
          "text": [
            "1    4.9\n",
            "2    4.7\n",
            "3    4.6\n",
            "4    5.0\n",
            "5    5.4\n",
            "Name: SepalLengthCm, dtype: float64\n"
          ]
        }
      ],
      "source": [
        "print(data.loc[1:5,'SepalLengthCm'])"
      ]
    },
    {
      "cell_type": "markdown",
      "metadata": {
        "id": "56lqZMisSPyt"
      },
      "source": [
        "Print from 5th row and onwards and entire column of Iris.csv dataset."
      ]
    },
    {
      "cell_type": "code",
      "execution_count": null,
      "metadata": {
        "colab": {
          "base_uri": "https://localhost:8080/"
        },
        "id": "Q0ZsJsJwSTqI",
        "outputId": "c8a3a6f6-9253-443d-90a0-42f0b447e9c8"
      },
      "outputs": [
        {
          "name": "stdout",
          "output_type": "stream",
          "text": [
            "      Id  SepalLengthCm  ...  PetalWidthCm         Species\n",
            "5      6            5.4  ...           0.4     Iris-setosa\n",
            "6      7            4.6  ...           0.3     Iris-setosa\n",
            "7      8            5.0  ...           0.2     Iris-setosa\n",
            "8      9            4.4  ...           0.2     Iris-setosa\n",
            "9     10            4.9  ...           0.1     Iris-setosa\n",
            "..   ...            ...  ...           ...             ...\n",
            "145  146            6.7  ...           2.3  Iris-virginica\n",
            "146  147            6.3  ...           1.9  Iris-virginica\n",
            "147  148            6.5  ...           2.0  Iris-virginica\n",
            "148  149            6.2  ...           2.3  Iris-virginica\n",
            "149  150            5.9  ...           1.8  Iris-virginica\n",
            "\n",
            "[145 rows x 6 columns]\n"
          ]
        }
      ],
      "source": [
        "print(data.loc[5:])"
      ]
    }
  ],
  "metadata": {
    "colab": {
      "collapsed_sections": [],
      "name": "ML_Lab_1.ipynb",
      "provenance": []
    },
    "kernelspec": {
      "display_name": "Python 3",
      "name": "python3"
    },
    "language_info": {
      "codemirror_mode": {
        "name": "ipython",
        "version": 3
      },
      "file_extension": ".py",
      "mimetype": "text/x-python",
      "name": "python",
      "nbconvert_exporter": "python",
      "pygments_lexer": "ipython3",
      "version": "3.10.2"
    }
  },
  "nbformat": 4,
  "nbformat_minor": 0
}
