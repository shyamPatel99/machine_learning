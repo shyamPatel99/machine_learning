{
  "cells": [
    {
      "cell_type": "markdown",
      "metadata": {
        "id": "bQeNfrZvUC8S"
      },
      "source": [
        "Data Transformation:-"
      ]
    },
    {
      "cell_type": "code",
      "execution_count": 8,
      "metadata": {
        "colab": {
          "base_uri": "https://localhost:8080/"
        },
        "id": "IAp_6IwHUIHE",
        "outputId": "0dab88a4-b989-4de4-cb60-a12527a4bfd1"
      },
      "outputs": [
        {
          "name": "stdout",
          "output_type": "stream",
          "text": [
            "\n",
            "Data :\n",
            "       Unnamed: 0  Price   Age     KM FuelType   HP  MetColor  Automatic    CC  \\\n",
            "0              0  13500  23.0  46986   Diesel   90       1.0          0  2000   \n",
            "1              1  13750  23.0  72937   Diesel   90       1.0          0  2000   \n",
            "2              2  13950  24.0  41711   Diesel   90       NaN          0  2000   \n",
            "3              3  14950  26.0  48000   Diesel   90       0.0          0  2000   \n",
            "4              4  13750  30.0  38500   Diesel   90       0.0          0  2000   \n",
            "...          ...    ...   ...    ...      ...  ...       ...        ...   ...   \n",
            "1431        1431   7500   NaN  20544   Petrol   86       1.0          0  1300   \n",
            "1432        1432  10845  72.0     ??   Petrol   86       0.0          0  1300   \n",
            "1433        1433   8500   NaN  17016   Petrol   86       0.0          0  1300   \n",
            "1434        1434   7250  70.0     ??      NaN   86       1.0          0  1300   \n",
            "1435        1435   6950  76.0      1   Petrol  110       0.0          0  1600   \n",
            "\n",
            "      Doors  Weight  \n",
            "0     three    1165  \n",
            "1         3    1165  \n",
            "2         3    1165  \n",
            "3         3    1165  \n",
            "4         3    1170  \n",
            "...     ...     ...  \n",
            "1431      3    1025  \n",
            "1432      3    1015  \n",
            "1433      3    1015  \n",
            "1434      3    1015  \n",
            "1435      5    1114  \n",
            "\n",
            "[1436 rows x 11 columns]\n",
            "\n",
            "After Transformation: \n",
            " [[13500.    23.]\n",
            " [13750.    23.]\n",
            " [13950.    24.]\n",
            " ...\n",
            " [ 8500.    nan]\n",
            " [ 7250.    70.]\n",
            " [ 6950.    76.]]\n",
            "\n",
            "Scaled X: \n",
            " [[0.3250444  0.27848101]\n",
            " [0.3339254  0.27848101]\n",
            " [0.3410302  0.29113924]\n",
            " ...\n",
            " [0.14742451        nan]\n",
            " [0.10301954 0.87341772]\n",
            " [0.09236234 0.94936709]]\n",
            "\n",
            "Standardized X: \n",
            " [[ 0.76376268 -1.75818903]\n",
            " [ 0.83271485 -1.75818903]\n",
            " [ 0.88787659 -1.70437596]\n",
            " ...\n",
            " [-0.6152808          nan]\n",
            " [-0.96004167  0.7710253 ]\n",
            " [-1.04278428  1.09390373]]\n"
          ]
        }
      ],
      "source": [
        "#Importing libraries\n",
        "import numpy as np\n",
        "import pandas as pd\n",
        "from sklearn.preprocessing import MinMaxScaler, StandardScaler\n",
        "\n",
        "#Loading Data\n",
        "datasets=pd.read_csv('https://raw.githubusercontent.com/ShyamCE/college/main/ML_CE081/Classroom_files/Lab-2/Exercise-CarData.csv')\n",
        "print(\"\\nData :\\n\",datasets)\n",
        "\n",
        "X=datasets.iloc[:,:-1].values\n",
        "Y=datasets.iloc[:,:-1].values\n",
        "new=datasets.iloc[:,1:3].values\n",
        "#Transformation\n",
        "print(\"\\nAfter Transformation: \\n\",new)\n",
        "\n",
        "#Scaling on Age And Salary\n",
        "scaler=MinMaxScaler()\n",
        "x_scaler=scaler.fit_transform(new)\n",
        "print(\"\\nScaled X: \\n\",x_scaler)\n",
        "\n",
        "#Standardization\n",
        "std=StandardScaler()\n",
        "x_std=std.fit_transform(new)\n",
        "print(\"\\nStandardized X: \\n\",x_std)"
      ]
    },
    {
      "cell_type": "markdown",
      "metadata": {
        "id": "MaiGOlZYedjD"
      },
      "source": [
        "Handling Categorical Data:-"
      ]
    },
    {
      "cell_type": "code",
      "execution_count": 9,
      "metadata": {
        "colab": {
          "base_uri": "https://localhost:8080/"
        },
        "id": "JL4MfnqXezKC",
        "outputId": "e35a43d4-fd67-4194-ba72-4fd5703f252d"
      },
      "outputs": [
        {
          "name": "stdout",
          "output_type": "stream",
          "text": [
            "\n",
            "Data :\n",
            "       Unnamed: 0  Price   Age     KM FuelType   HP  MetColor  Automatic    CC  \\\n",
            "0              0  13500  23.0  46986   Diesel   90       1.0          0  2000   \n",
            "1              1  13750  23.0  72937   Diesel   90       1.0          0  2000   \n",
            "2              2  13950  24.0  41711   Diesel   90       NaN          0  2000   \n",
            "3              3  14950  26.0  48000   Diesel   90       0.0          0  2000   \n",
            "4              4  13750  30.0  38500   Diesel   90       0.0          0  2000   \n",
            "...          ...    ...   ...    ...      ...  ...       ...        ...   ...   \n",
            "1431        1431   7500   NaN  20544   Petrol   86       1.0          0  1300   \n",
            "1432        1432  10845  72.0     ??   Petrol   86       0.0          0  1300   \n",
            "1433        1433   8500   NaN  17016   Petrol   86       0.0          0  1300   \n",
            "1434        1434   7250  70.0     ??      NaN   86       1.0          0  1300   \n",
            "1435        1435   6950  76.0      1   Petrol  110       0.0          0  1600   \n",
            "\n",
            "      Doors  Weight  \n",
            "0     three    1165  \n",
            "1         3    1165  \n",
            "2         3    1165  \n",
            "3         3    1165  \n",
            "4         3    1170  \n",
            "...     ...     ...  \n",
            "1431      3    1025  \n",
            "1432      3    1015  \n",
            "1433      3    1015  \n",
            "1434      3    1015  \n",
            "1435      5    1114  \n",
            "\n",
            "[1436 rows x 11 columns]\n",
            "\n",
            "Data Description: \n",
            "         Unnamed: 0         Price          Age     MetColor    Automatic  \\\n",
            "count  1436.000000   1436.000000  1336.000000  1286.000000  1436.000000   \n",
            "mean    717.500000  10730.824513    55.672156     0.674961     0.055710   \n",
            "std     414.681806   3626.964585    18.589804     0.468572     0.229441   \n",
            "min       0.000000   4350.000000     1.000000     0.000000     0.000000   \n",
            "25%     358.750000   8450.000000    43.000000     0.000000     0.000000   \n",
            "50%     717.500000   9900.000000    60.000000     1.000000     0.000000   \n",
            "75%    1076.250000  11950.000000    70.000000     1.000000     0.000000   \n",
            "max    1435.000000  32500.000000    80.000000     1.000000     1.000000   \n",
            "\n",
            "                CC      Weight  \n",
            "count  1436.000000  1436.00000  \n",
            "mean   1566.827994  1072.45961  \n",
            "std     187.182436    52.64112  \n",
            "min    1300.000000  1000.00000  \n",
            "25%    1400.000000  1040.00000  \n",
            "50%    1600.000000  1070.00000  \n",
            "75%    1600.000000  1085.00000  \n",
            "max    2000.000000  1615.00000  \n"
          ]
        }
      ],
      "source": [
        "#Importing libraries\n",
        "import numpy as np\n",
        "import pandas as pd\n",
        "from sklearn.preprocessing import LabelEncoder,OneHotEncoder\n",
        "\n",
        "#Loading Data\n",
        "datasets=pd.read_csv('https://raw.githubusercontent.com/ShyamCE/college/main/ML_CE081/Classroom_files/Lab-2/Exercise-CarData.csv')\n",
        "print(\"\\nData :\\n\",datasets)\n",
        "print(\"\\nData Description: \\n\",datasets.describe())\n"
      ]
    },
    {
      "cell_type": "code",
      "execution_count": 10,
      "metadata": {
        "colab": {
          "base_uri": "https://localhost:8080/"
        },
        "id": "XcgIS5Nmfosx",
        "outputId": "71c30787-c2db-4298-b07e-00a0b65bc642"
      },
      "outputs": [
        {
          "name": "stdout",
          "output_type": "stream",
          "text": [
            "Inputs: \n",
            " [[13500 23.0 '46986' ... 2000 'three' 1165]\n",
            " [13750 23.0 '72937' ... 2000 '3' 1165]\n",
            " [13950 24.0 '41711' ... 2000 '3' 1165]\n",
            " ...\n",
            " [8500 nan '17016' ... 1300 '3' 1015]\n",
            " [7250 70.0 '??' ... 1300 '3' 1015]\n",
            " [6950 76.0 '1' ... 1600 '5' 1114]]\n",
            "Output: \n",
            " [13500 13750 13950 ...  8500  7250  6950]\n"
          ]
        }
      ],
      "source": [
        "\n",
        "#Seperating Input and Output\n",
        "X=datasets.iloc[:,1:].values\n",
        "Y=datasets.iloc[:,1].values\n",
        "print(\"Inputs: \\n\",X)\n",
        "print(\"Output: \\n\",Y)"
      ]
    },
    {
      "cell_type": "code",
      "execution_count": 11,
      "metadata": {
        "colab": {
          "base_uri": "https://localhost:8080/"
        },
        "id": "cY0Kb6kSfqfr",
        "outputId": "020abfd8-0a98-480b-ddb3-3a3a0a1824c6"
      },
      "outputs": [
        {
          "name": "stdout",
          "output_type": "stream",
          "text": [
            "Inputs: \n",
            " [[161 23.0 '46986' ... 2000 'three' 1165]\n",
            " [162 23.0 '72937' ... 2000 '3' 1165]\n",
            " [164 24.0 '41711' ... 2000 '3' 1165]\n",
            " ...\n",
            " [66 nan '17016' ... 1300 '3' 1015]\n",
            " [36 70.0 '??' ... 1300 '3' 1015]\n",
            " [29 76.0 '1' ... 1600 '5' 1114]]\n"
          ]
        }
      ],
      "source": [
        "#Converting Country names into numerical values\n",
        "label=LabelEncoder()\n",
        "X[:,0]=label.fit_transform(X[:,0])\n",
        "print(\"Inputs: \\n\",X)"
      ]
    },
    {
      "cell_type": "code",
      "execution_count": 12,
      "metadata": {
        "colab": {
          "base_uri": "https://localhost:8080/"
        },
        "id": "DTUmCT0hgUzY",
        "outputId": "ec37ac28-e90e-4111-d30a-3dc0d49bf6f5"
      },
      "outputs": [
        {
          "name": "stdout",
          "output_type": "stream",
          "text": [
            "Dummies are: \n",
            "       4350   4400   4450   4750   5150   5250   5600   5740   5750   5751   \\\n",
            "0         0      0      0      0      0      0      0      0      0      0   \n",
            "1         0      0      0      0      0      0      0      0      0      0   \n",
            "2         0      0      0      0      0      0      0      0      0      0   \n",
            "3         0      0      0      0      0      0      0      0      0      0   \n",
            "4         0      0      0      0      0      0      0      0      0      0   \n",
            "...     ...    ...    ...    ...    ...    ...    ...    ...    ...    ...   \n",
            "1431      0      0      0      0      0      0      0      0      0      0   \n",
            "1432      0      0      0      0      0      0      0      0      0      0   \n",
            "1433      0      0      0      0      0      0      0      0      0      0   \n",
            "1434      0      0      0      0      0      0      0      0      0      0   \n",
            "1435      0      0      0      0      0      0      0      0      0      0   \n",
            "\n",
            "      ...  22950  23000  23750  23950  24500  24950  24990  31000  31275  \\\n",
            "0     ...      0      0      0      0      0      0      0      0      0   \n",
            "1     ...      0      0      0      0      0      0      0      0      0   \n",
            "2     ...      0      0      0      0      0      0      0      0      0   \n",
            "3     ...      0      0      0      0      0      0      0      0      0   \n",
            "4     ...      0      0      0      0      0      0      0      0      0   \n",
            "...   ...    ...    ...    ...    ...    ...    ...    ...    ...    ...   \n",
            "1431  ...      0      0      0      0      0      0      0      0      0   \n",
            "1432  ...      0      0      0      0      0      0      0      0      0   \n",
            "1433  ...      0      0      0      0      0      0      0      0      0   \n",
            "1434  ...      0      0      0      0      0      0      0      0      0   \n",
            "1435  ...      0      0      0      0      0      0      0      0      0   \n",
            "\n",
            "      32500  \n",
            "0         0  \n",
            "1         0  \n",
            "2         0  \n",
            "3         0  \n",
            "4         0  \n",
            "...     ...  \n",
            "1431      0  \n",
            "1432      0  \n",
            "1433      0  \n",
            "1434      0  \n",
            "1435      0  \n",
            "\n",
            "[1436 rows x 236 columns]\n",
            "Result: \n",
            "       4350  4400  4450  4750  5150  5250  5600  5740  5750  5751  ...  32500  \\\n",
            "0        0     0     0     0     0     0     0     0     0     0  ...      0   \n",
            "1        0     0     0     0     0     0     0     0     0     0  ...      0   \n",
            "2        0     0     0     0     0     0     0     0     0     0  ...      0   \n",
            "3        0     0     0     0     0     0     0     0     0     0  ...      0   \n",
            "4        0     0     0     0     0     0     0     0     0     0  ...      0   \n",
            "...    ...   ...   ...   ...   ...   ...   ...   ...   ...   ...  ...    ...   \n",
            "1431     0     0     0     0     0     0     0     0     0     0  ...      0   \n",
            "1432     0     0     0     0     0     0     0     0     0     0  ...      0   \n",
            "1433     0     0     0     0     0     0     0     0     0     0  ...      0   \n",
            "1434     0     0     0     0     0     0     0     0     0     0  ...      0   \n",
            "1435     0     0     0     0     0     0     0     0     0     0  ...      0   \n",
            "\n",
            "      Unnamed: 0   Age     KM   HP  MetColor  Automatic    CC  Doors  Weight  \n",
            "0              0  23.0  46986   90       1.0          0  2000  three    1165  \n",
            "1              1  23.0  72937   90       1.0          0  2000      3    1165  \n",
            "2              2  24.0  41711   90       NaN          0  2000      3    1165  \n",
            "3              3  26.0  48000   90       0.0          0  2000      3    1165  \n",
            "4              4  30.0  38500   90       0.0          0  2000      3    1170  \n",
            "...          ...   ...    ...  ...       ...        ...   ...    ...     ...  \n",
            "1431        1431   NaN  20544   86       1.0          0  1300      3    1025  \n",
            "1432        1432  72.0     ??   86       0.0          0  1300      3    1015  \n",
            "1433        1433   NaN  17016   86       0.0          0  1300      3    1015  \n",
            "1434        1434  70.0     ??   86       1.0          0  1300      3    1015  \n",
            "1435        1435  76.0      1  110       0.0          0  1600      5    1114  \n",
            "\n",
            "[1436 rows x 245 columns]\n"
          ]
        }
      ],
      "source": [
        "#Creating dummy variables for each Price\n",
        "dummy=pd.get_dummies(datasets['Price'])\n",
        "print(\"Dummies are: \\n\",dummy)\n",
        "\n",
        "datasets=datasets.drop(['Price','FuelType'],axis=1)\n",
        "datasets=pd.concat([dummy,datasets],axis=1)\n",
        "print(\"Result: \\n\",datasets)"
      ]
    },
    {
      "cell_type": "code",
      "execution_count": 13,
      "metadata": {
        "id": "KJK9kvtTkWkX"
      },
      "outputs": [],
      "source": [
        "# One Hot Encoder\n",
        "encode=OneHotEncoder()\n",
        "x=encode.fit_transform(datasets.Weight.values.reshape(-1,1)).toarray()\n"
      ]
    },
    {
      "cell_type": "code",
      "execution_count": 14,
      "metadata": {
        "colab": {
          "base_uri": "https://localhost:8080/"
        },
        "id": "aBOKnt0Fm_Nf",
        "outputId": "1f68bb53-c3b0-4bce-a97a-894647f903d0"
      },
      "outputs": [
        {
          "data": {
            "text/plain": [
              "array([[0., 0., 0., ..., 0., 0., 0.],\n",
              "       [0., 0., 0., ..., 0., 0., 0.],\n",
              "       [0., 0., 0., ..., 0., 0., 0.],\n",
              "       ...,\n",
              "       [0., 0., 1., ..., 0., 0., 0.],\n",
              "       [0., 0., 1., ..., 0., 0., 0.],\n",
              "       [0., 0., 0., ..., 0., 0., 0.]])"
            ]
          },
          "execution_count": 14,
          "metadata": {},
          "output_type": "execute_result"
        }
      ],
      "source": [
        "x"
      ]
    },
    {
      "cell_type": "code",
      "execution_count": 15,
      "metadata": {
        "colab": {
          "base_uri": "https://localhost:8080/",
          "height": 380
        },
        "id": "tEJvkPeXns7P",
        "outputId": "b88b5a33-7a34-4dce-94db-801c21ecf511"
      },
      "outputs": [
        {
          "ename": "ValueError",
          "evalue": "Must pass 2-d input. shape=(1, 1436, 59)",
          "output_type": "error",
          "traceback": [
            "\u001b[1;31m---------------------------------------------------------------------------\u001b[0m",
            "\u001b[1;31mValueError\u001b[0m                                Traceback (most recent call last)",
            "\u001b[1;32me:\\Sem-6\\college\\ML_CE081\\Submission\\ML_Lab02.ipynb Cell 10'\u001b[0m in \u001b[0;36m<module>\u001b[1;34m\u001b[0m\n\u001b[0;32m      <a href='vscode-notebook-cell:/e%3A/Sem-6/college/ML_CE081/Submission/ML_Lab02.ipynb#ch0000009?line=0'>1</a>\u001b[0m Y\u001b[39m=\u001b[39mnp\u001b[39m.\u001b[39marray([x])\n\u001b[1;32m----> <a href='vscode-notebook-cell:/e%3A/Sem-6/college/ML_CE081/Submission/ML_Lab02.ipynb#ch0000009?line=1'>2</a>\u001b[0m dfOneHot \u001b[39m=\u001b[39m pd\u001b[39m.\u001b[39;49mDataFrame(Y, columns \u001b[39m=\u001b[39;49m [\u001b[39m\"\u001b[39;49m\u001b[39mPrice_\u001b[39;49m\u001b[39m\"\u001b[39;49m\u001b[39m+\u001b[39;49m\u001b[39mstr\u001b[39;49m(\u001b[39mint\u001b[39;49m(i)) \u001b[39mfor\u001b[39;49;00m i \u001b[39min\u001b[39;49;00m \u001b[39mrange\u001b[39;49m(datasets\u001b[39m.\u001b[39;49mshape[\u001b[39m1\u001b[39;49m]\u001b[39m-\u001b[39;49m\u001b[39m1\u001b[39;49m)]) \n\u001b[0;32m      <a href='vscode-notebook-cell:/e%3A/Sem-6/college/ML_CE081/Submission/ML_Lab02.ipynb#ch0000009?line=2'>3</a>\u001b[0m df\u001b[39m=\u001b[39mpd\u001b[39m.\u001b[39mconcat([datasets,dfOneHot],axis\u001b[39m=\u001b[39m\u001b[39m1\u001b[39m)\n\u001b[0;32m      <a href='vscode-notebook-cell:/e%3A/Sem-6/college/ML_CE081/Submission/ML_Lab02.ipynb#ch0000009?line=3'>4</a>\u001b[0m df\u001b[39m=\u001b[39mdf\u001b[39m.\u001b[39mdrop([\u001b[39m'\u001b[39m\u001b[39mPrice\u001b[39m\u001b[39m'\u001b[39m],axis\u001b[39m=\u001b[39m\u001b[39m1\u001b[39m)\n",
            "File \u001b[1;32m~\\AppData\\Local\\Programs\\Python\\Python310\\lib\\site-packages\\pandas\\core\\frame.py:694\u001b[0m, in \u001b[0;36mDataFrame.__init__\u001b[1;34m(self, data, index, columns, dtype, copy)\u001b[0m\n\u001b[0;32m    <a href='file:///~/AppData/Local/Programs/Python/Python310/lib/site-packages/pandas/core/frame.py?line=683'>684</a>\u001b[0m         mgr \u001b[39m=\u001b[39m dict_to_mgr(\n\u001b[0;32m    <a href='file:///~/AppData/Local/Programs/Python/Python310/lib/site-packages/pandas/core/frame.py?line=684'>685</a>\u001b[0m             \u001b[39m# error: Item \"ndarray\" of \"Union[ndarray, Series, Index]\" has no\u001b[39;00m\n\u001b[0;32m    <a href='file:///~/AppData/Local/Programs/Python/Python310/lib/site-packages/pandas/core/frame.py?line=685'>686</a>\u001b[0m             \u001b[39m# attribute \"name\"\u001b[39;00m\n\u001b[1;32m   (...)\u001b[0m\n\u001b[0;32m    <a href='file:///~/AppData/Local/Programs/Python/Python310/lib/site-packages/pandas/core/frame.py?line=690'>691</a>\u001b[0m             typ\u001b[39m=\u001b[39mmanager,\n\u001b[0;32m    <a href='file:///~/AppData/Local/Programs/Python/Python310/lib/site-packages/pandas/core/frame.py?line=691'>692</a>\u001b[0m         )\n\u001b[0;32m    <a href='file:///~/AppData/Local/Programs/Python/Python310/lib/site-packages/pandas/core/frame.py?line=692'>693</a>\u001b[0m     \u001b[39melse\u001b[39;00m:\n\u001b[1;32m--> <a href='file:///~/AppData/Local/Programs/Python/Python310/lib/site-packages/pandas/core/frame.py?line=693'>694</a>\u001b[0m         mgr \u001b[39m=\u001b[39m ndarray_to_mgr(\n\u001b[0;32m    <a href='file:///~/AppData/Local/Programs/Python/Python310/lib/site-packages/pandas/core/frame.py?line=694'>695</a>\u001b[0m             data,\n\u001b[0;32m    <a href='file:///~/AppData/Local/Programs/Python/Python310/lib/site-packages/pandas/core/frame.py?line=695'>696</a>\u001b[0m             index,\n\u001b[0;32m    <a href='file:///~/AppData/Local/Programs/Python/Python310/lib/site-packages/pandas/core/frame.py?line=696'>697</a>\u001b[0m             columns,\n\u001b[0;32m    <a href='file:///~/AppData/Local/Programs/Python/Python310/lib/site-packages/pandas/core/frame.py?line=697'>698</a>\u001b[0m             dtype\u001b[39m=\u001b[39;49mdtype,\n\u001b[0;32m    <a href='file:///~/AppData/Local/Programs/Python/Python310/lib/site-packages/pandas/core/frame.py?line=698'>699</a>\u001b[0m             copy\u001b[39m=\u001b[39;49mcopy,\n\u001b[0;32m    <a href='file:///~/AppData/Local/Programs/Python/Python310/lib/site-packages/pandas/core/frame.py?line=699'>700</a>\u001b[0m             typ\u001b[39m=\u001b[39;49mmanager,\n\u001b[0;32m    <a href='file:///~/AppData/Local/Programs/Python/Python310/lib/site-packages/pandas/core/frame.py?line=700'>701</a>\u001b[0m         )\n\u001b[0;32m    <a href='file:///~/AppData/Local/Programs/Python/Python310/lib/site-packages/pandas/core/frame.py?line=702'>703</a>\u001b[0m \u001b[39m# For data is list-like, or Iterable (will consume into list)\u001b[39;00m\n\u001b[0;32m    <a href='file:///~/AppData/Local/Programs/Python/Python310/lib/site-packages/pandas/core/frame.py?line=703'>704</a>\u001b[0m \u001b[39melif\u001b[39;00m is_list_like(data):\n",
            "File \u001b[1;32m~\\AppData\\Local\\Programs\\Python\\Python310\\lib\\site-packages\\pandas\\core\\internals\\construction.py:331\u001b[0m, in \u001b[0;36mndarray_to_mgr\u001b[1;34m(values, index, columns, dtype, copy, typ)\u001b[0m\n\u001b[0;32m    <a href='file:///~/AppData/Local/Programs/Python/Python310/lib/site-packages/pandas/core/internals/construction.py?line=325'>326</a>\u001b[0m         values \u001b[39m=\u001b[39m values\u001b[39m.\u001b[39mreshape(\u001b[39m-\u001b[39m\u001b[39m1\u001b[39m, \u001b[39m1\u001b[39m)\n\u001b[0;32m    <a href='file:///~/AppData/Local/Programs/Python/Python310/lib/site-packages/pandas/core/internals/construction.py?line=327'>328</a>\u001b[0m \u001b[39melse\u001b[39;00m:\n\u001b[0;32m    <a href='file:///~/AppData/Local/Programs/Python/Python310/lib/site-packages/pandas/core/internals/construction.py?line=328'>329</a>\u001b[0m     \u001b[39m# by definition an array here\u001b[39;00m\n\u001b[0;32m    <a href='file:///~/AppData/Local/Programs/Python/Python310/lib/site-packages/pandas/core/internals/construction.py?line=329'>330</a>\u001b[0m     \u001b[39m# the dtypes will be coerced to a single dtype\u001b[39;00m\n\u001b[1;32m--> <a href='file:///~/AppData/Local/Programs/Python/Python310/lib/site-packages/pandas/core/internals/construction.py?line=330'>331</a>\u001b[0m     values \u001b[39m=\u001b[39m _prep_ndarray(values, copy\u001b[39m=\u001b[39;49mcopy_on_sanitize)\n\u001b[0;32m    <a href='file:///~/AppData/Local/Programs/Python/Python310/lib/site-packages/pandas/core/internals/construction.py?line=332'>333</a>\u001b[0m \u001b[39mif\u001b[39;00m dtype \u001b[39mis\u001b[39;00m \u001b[39mnot\u001b[39;00m \u001b[39mNone\u001b[39;00m \u001b[39mand\u001b[39;00m \u001b[39mnot\u001b[39;00m is_dtype_equal(values\u001b[39m.\u001b[39mdtype, dtype):\n\u001b[0;32m    <a href='file:///~/AppData/Local/Programs/Python/Python310/lib/site-packages/pandas/core/internals/construction.py?line=333'>334</a>\u001b[0m     shape \u001b[39m=\u001b[39m values\u001b[39m.\u001b[39mshape\n",
            "File \u001b[1;32m~\\AppData\\Local\\Programs\\Python\\Python310\\lib\\site-packages\\pandas\\core\\internals\\construction.py:591\u001b[0m, in \u001b[0;36m_prep_ndarray\u001b[1;34m(values, copy)\u001b[0m\n\u001b[0;32m    <a href='file:///~/AppData/Local/Programs/Python/Python310/lib/site-packages/pandas/core/internals/construction.py?line=588'>589</a>\u001b[0m     values \u001b[39m=\u001b[39m values\u001b[39m.\u001b[39mreshape((values\u001b[39m.\u001b[39mshape[\u001b[39m0\u001b[39m], \u001b[39m1\u001b[39m))\n\u001b[0;32m    <a href='file:///~/AppData/Local/Programs/Python/Python310/lib/site-packages/pandas/core/internals/construction.py?line=589'>590</a>\u001b[0m \u001b[39melif\u001b[39;00m values\u001b[39m.\u001b[39mndim \u001b[39m!=\u001b[39m \u001b[39m2\u001b[39m:\n\u001b[1;32m--> <a href='file:///~/AppData/Local/Programs/Python/Python310/lib/site-packages/pandas/core/internals/construction.py?line=590'>591</a>\u001b[0m     \u001b[39mraise\u001b[39;00m \u001b[39mValueError\u001b[39;00m(\u001b[39mf\u001b[39m\u001b[39m\"\u001b[39m\u001b[39mMust pass 2-d input. shape=\u001b[39m\u001b[39m{\u001b[39;00mvalues\u001b[39m.\u001b[39mshape\u001b[39m}\u001b[39;00m\u001b[39m\"\u001b[39m)\n\u001b[0;32m    <a href='file:///~/AppData/Local/Programs/Python/Python310/lib/site-packages/pandas/core/internals/construction.py?line=592'>593</a>\u001b[0m \u001b[39mreturn\u001b[39;00m values\n",
            "\u001b[1;31mValueError\u001b[0m: Must pass 2-d input. shape=(1, 1436, 59)"
          ]
        }
      ],
      "source": [
        "Y=np.array([x])\n",
        "dfOneHot = pd.DataFrame(Y, columns = [\"Price_\"+str(int(i)) for i in range(datasets.shape[1]-1)]) \n",
        "df=pd.concat([datasets,dfOneHot],axis=1)\n",
        "df=df.drop(['Price'],axis=1)\n",
        "print(df)"
      ]
    },
    {
      "cell_type": "code",
      "execution_count": null,
      "metadata": {
        "id": "zxyERo1_Hutm"
      },
      "outputs": [],
      "source": []
    },
    {
      "cell_type": "markdown",
      "metadata": {
        "id": "s8DtsZZWE_gI"
      },
      "source": [
        "Handling Missing Values:-"
      ]
    },
    {
      "cell_type": "code",
      "execution_count": null,
      "metadata": {
        "colab": {
          "base_uri": "https://localhost:8080/"
        },
        "id": "EeAIHOJhFC4y",
        "outputId": "18774c39-89cc-4167-8233-9f2c3d9366d0"
      },
      "outputs": [
        {
          "name": "stdout",
          "output_type": "stream",
          "text": [
            "\n",
            "Data :\n",
            "       Unnamed: 0  Price   Age     KM FuelType   HP  MetColor  Automatic    CC  \\\n",
            "0              0  13500  23.0  46986   Diesel   90       1.0          0  2000   \n",
            "1              1  13750  23.0  72937   Diesel   90       1.0          0  2000   \n",
            "2              2  13950  24.0  41711   Diesel   90       NaN          0  2000   \n",
            "3              3  14950  26.0  48000   Diesel   90       0.0          0  2000   \n",
            "4              4  13750  30.0  38500   Diesel   90       0.0          0  2000   \n",
            "...          ...    ...   ...    ...      ...  ...       ...        ...   ...   \n",
            "1431        1431   7500   NaN  20544   Petrol   86       1.0          0  1300   \n",
            "1432        1432  10845  72.0     ??   Petrol   86       0.0          0  1300   \n",
            "1433        1433   8500   NaN  17016   Petrol   86       0.0          0  1300   \n",
            "1434        1434   7250  70.0     ??      NaN   86       1.0          0  1300   \n",
            "1435        1435   6950  76.0      1   Petrol  110       0.0          0  1600   \n",
            "\n",
            "      Doors  Weight  \n",
            "0     three    1165  \n",
            "1         3    1165  \n",
            "2         3    1165  \n",
            "3         3    1165  \n",
            "4         3    1170  \n",
            "...     ...     ...  \n",
            "1431      3    1025  \n",
            "1432      3    1015  \n",
            "1433      3    1015  \n",
            "1434      3    1015  \n",
            "1435      5    1114  \n",
            "\n",
            "[1436 rows x 11 columns]\n",
            "\n",
            "Data Description:\n",
            "         Unnamed: 0         Price          Age     MetColor    Automatic  \\\n",
            "count  1436.000000   1436.000000  1336.000000  1286.000000  1436.000000   \n",
            "mean    717.500000  10730.824513    55.672156     0.674961     0.055710   \n",
            "std     414.681806   3626.964585    18.589804     0.468572     0.229441   \n",
            "min       0.000000   4350.000000     1.000000     0.000000     0.000000   \n",
            "25%     358.750000   8450.000000    43.000000     0.000000     0.000000   \n",
            "50%     717.500000   9900.000000    60.000000     1.000000     0.000000   \n",
            "75%    1076.250000  11950.000000    70.000000     1.000000     0.000000   \n",
            "max    1435.000000  32500.000000    80.000000     1.000000     1.000000   \n",
            "\n",
            "                CC      Weight  \n",
            "count  1436.000000  1436.00000  \n",
            "mean   1566.827994  1072.45961  \n",
            "std     187.182436    52.64112  \n",
            "min    1300.000000  1000.00000  \n",
            "25%    1400.000000  1040.00000  \n",
            "50%    1600.000000  1070.00000  \n",
            "75%    1600.000000  1085.00000  \n",
            "max    2000.000000  1615.00000  \n"
          ]
        }
      ],
      "source": [
        "import numpy as np \n",
        "import pandas as pd\n",
        "from sklearn.impute import SimpleImputer \n",
        "\n",
        "datasets = pd.read_csv('https://raw.githubusercontent.com/ShyamCE/college/main/ML_CE081/Classroom_files/Lab-2/Exercise-CarData.csv') \n",
        "print(\"\\nData :\\n\",datasets)\n",
        "print(\"\\nData Description:\\n\",datasets.describe())"
      ]
    },
    {
      "cell_type": "code",
      "execution_count": null,
      "metadata": {
        "colab": {
          "base_uri": "https://localhost:8080/"
        },
        "id": "1KkHrQAYFZGO",
        "outputId": "8c91d8a3-c42c-4212-ac50-192e5d6ae25e"
      },
      "outputs": [
        {
          "name": "stdout",
          "output_type": "stream",
          "text": [
            "Input: \n",
            " [[0 13500 23.0 ... 0 2000 'three']\n",
            " [1 13750 23.0 ... 0 2000 '3']\n",
            " [2 13950 24.0 ... 0 2000 '3']\n",
            " ...\n",
            " [1433 8500 nan ... 0 1300 '3']\n",
            " [1434 7250 70.0 ... 0 1300 '3']\n",
            " [1435 6950 76.0 ... 0 1600 '5']]\n",
            "Output: \n",
            " [1165 1165 1165 ... 1015 1015 1114]\n"
          ]
        }
      ],
      "source": [
        "X=datasets.iloc[:,:-1].values\n",
        "Y=datasets.iloc[:,-1].values\n",
        "print(\"Input: \\n\",X)\n",
        "print(\"Output: \\n\",Y)"
      ]
    },
    {
      "cell_type": "code",
      "execution_count": null,
      "metadata": {
        "colab": {
          "base_uri": "https://localhost:8080/"
        },
        "id": "4KpOykAkGKUO",
        "outputId": "de2078ad-78e5-4564-f27c-2e64f1531dfe"
      },
      "outputs": [
        {
          "name": "stdout",
          "output_type": "stream",
          "text": [
            "\n",
            "New Data: \n",
            "       Unnamed: 0  Price   Age     KM  ... Automatic    CC  Doors  Weight\n",
            "0              0  13500  23.0  46986  ...         0  2000  three    1165\n",
            "1              1  13750  23.0  72937  ...         0  2000      3    1165\n",
            "2              2  13950  24.0  41711  ...         0  2000      3    1165\n",
            "3              3  14950  26.0  48000  ...         0  2000      3    1165\n",
            "4              4  13750  30.0  38500  ...         0  2000      3    1170\n",
            "...          ...    ...   ...    ...  ...       ...   ...    ...     ...\n",
            "1431        1431   7500   NaN  20544  ...         0  1300      3    1025\n",
            "1432        1432  10845  72.0     ??  ...         0  1300      3    1015\n",
            "1433        1433   8500   NaN  17016  ...         0  1300      3    1015\n",
            "1434        1434   7250  70.0     ??  ...         0  1300      3    1015\n",
            "1435        1435   6950  76.0      1  ...         0  1600      5    1114\n",
            "\n",
            "[1436 rows x 11 columns]\n"
          ]
        }
      ],
      "source": [
        "datasets.dropna(axis=0,how='all',inplace=True)\n",
        "print(\"\\nNew Data: \\n\",datasets)\n"
      ]
    },
    {
      "cell_type": "code",
      "execution_count": null,
      "metadata": {
        "colab": {
          "base_uri": "https://localhost:8080/"
        },
        "id": "yIwhlVlNGg6l",
        "outputId": "f41fd800-26e0-4b34-ca99-b5c016ec0aaf"
      },
      "outputs": [
        {
          "name": "stdout",
          "output_type": "stream",
          "text": [
            "<class 'pandas.core.frame.DataFrame'>\n",
            "Int64Index: 1436 entries, 0 to 1435\n",
            "Data columns (total 11 columns):\n",
            " #   Column      Non-Null Count  Dtype  \n",
            "---  ------      --------------  -----  \n",
            " 0   Unnamed: 0  1436 non-null   int64  \n",
            " 1   Price       1436 non-null   int64  \n",
            " 2   Age         1436 non-null   float64\n",
            " 3   KM          1436 non-null   object \n",
            " 4   FuelType    1336 non-null   object \n",
            " 5   HP          1436 non-null   object \n",
            " 6   MetColor    1286 non-null   float64\n",
            " 7   Automatic   1436 non-null   int64  \n",
            " 8   CC          1436 non-null   int64  \n",
            " 9   Doors       1436 non-null   object \n",
            " 10  Weight      1436 non-null   int64  \n",
            "dtypes: float64(2), int64(5), object(4)\n",
            "memory usage: 134.6+ KB\n"
          ]
        }
      ],
      "source": [
        "updates=datasets\n",
        "updates['Age']=updates['Age'].fillna(updates['Age'].mean())\n",
        "updates.info()"
      ]
    },
    {
      "cell_type": "code",
      "execution_count": null,
      "metadata": {
        "colab": {
          "base_uri": "https://localhost:8080/",
          "height": 423
        },
        "id": "SkQBmTahG1Ra",
        "outputId": "7657375c-0793-4a8d-e0f9-3fe6f5fcc488"
      },
      "outputs": [
        {
          "data": {
            "text/html": [
              "<div>\n",
              "<style scoped>\n",
              "    .dataframe tbody tr th:only-of-type {\n",
              "        vertical-align: middle;\n",
              "    }\n",
              "\n",
              "    .dataframe tbody tr th {\n",
              "        vertical-align: top;\n",
              "    }\n",
              "\n",
              "    .dataframe thead th {\n",
              "        text-align: right;\n",
              "    }\n",
              "</style>\n",
              "<table border=\"1\" class=\"dataframe\">\n",
              "  <thead>\n",
              "    <tr style=\"text-align: right;\">\n",
              "      <th></th>\n",
              "      <th>Unnamed: 0</th>\n",
              "      <th>Price</th>\n",
              "      <th>Age</th>\n",
              "      <th>KM</th>\n",
              "      <th>FuelType</th>\n",
              "      <th>HP</th>\n",
              "      <th>MetColor</th>\n",
              "      <th>Automatic</th>\n",
              "      <th>CC</th>\n",
              "      <th>Doors</th>\n",
              "      <th>Weight</th>\n",
              "    </tr>\n",
              "  </thead>\n",
              "  <tbody>\n",
              "    <tr>\n",
              "      <th>0</th>\n",
              "      <td>0</td>\n",
              "      <td>13500</td>\n",
              "      <td>23.000000</td>\n",
              "      <td>46986</td>\n",
              "      <td>Diesel</td>\n",
              "      <td>90</td>\n",
              "      <td>1.0</td>\n",
              "      <td>0</td>\n",
              "      <td>2000</td>\n",
              "      <td>three</td>\n",
              "      <td>1165</td>\n",
              "    </tr>\n",
              "    <tr>\n",
              "      <th>1</th>\n",
              "      <td>1</td>\n",
              "      <td>13750</td>\n",
              "      <td>23.000000</td>\n",
              "      <td>72937</td>\n",
              "      <td>Diesel</td>\n",
              "      <td>90</td>\n",
              "      <td>1.0</td>\n",
              "      <td>0</td>\n",
              "      <td>2000</td>\n",
              "      <td>3</td>\n",
              "      <td>1165</td>\n",
              "    </tr>\n",
              "    <tr>\n",
              "      <th>2</th>\n",
              "      <td>2</td>\n",
              "      <td>13950</td>\n",
              "      <td>24.000000</td>\n",
              "      <td>41711</td>\n",
              "      <td>Diesel</td>\n",
              "      <td>90</td>\n",
              "      <td>NaN</td>\n",
              "      <td>0</td>\n",
              "      <td>2000</td>\n",
              "      <td>3</td>\n",
              "      <td>1165</td>\n",
              "    </tr>\n",
              "    <tr>\n",
              "      <th>3</th>\n",
              "      <td>3</td>\n",
              "      <td>14950</td>\n",
              "      <td>26.000000</td>\n",
              "      <td>48000</td>\n",
              "      <td>Diesel</td>\n",
              "      <td>90</td>\n",
              "      <td>0.0</td>\n",
              "      <td>0</td>\n",
              "      <td>2000</td>\n",
              "      <td>3</td>\n",
              "      <td>1165</td>\n",
              "    </tr>\n",
              "    <tr>\n",
              "      <th>4</th>\n",
              "      <td>4</td>\n",
              "      <td>13750</td>\n",
              "      <td>30.000000</td>\n",
              "      <td>38500</td>\n",
              "      <td>Diesel</td>\n",
              "      <td>90</td>\n",
              "      <td>0.0</td>\n",
              "      <td>0</td>\n",
              "      <td>2000</td>\n",
              "      <td>3</td>\n",
              "      <td>1170</td>\n",
              "    </tr>\n",
              "    <tr>\n",
              "      <th>...</th>\n",
              "      <td>...</td>\n",
              "      <td>...</td>\n",
              "      <td>...</td>\n",
              "      <td>...</td>\n",
              "      <td>...</td>\n",
              "      <td>...</td>\n",
              "      <td>...</td>\n",
              "      <td>...</td>\n",
              "      <td>...</td>\n",
              "      <td>...</td>\n",
              "      <td>...</td>\n",
              "    </tr>\n",
              "    <tr>\n",
              "      <th>1431</th>\n",
              "      <td>1431</td>\n",
              "      <td>7500</td>\n",
              "      <td>55.672156</td>\n",
              "      <td>20544</td>\n",
              "      <td>Petrol</td>\n",
              "      <td>86</td>\n",
              "      <td>1.0</td>\n",
              "      <td>0</td>\n",
              "      <td>1300</td>\n",
              "      <td>3</td>\n",
              "      <td>1025</td>\n",
              "    </tr>\n",
              "    <tr>\n",
              "      <th>1432</th>\n",
              "      <td>1432</td>\n",
              "      <td>10845</td>\n",
              "      <td>72.000000</td>\n",
              "      <td>??</td>\n",
              "      <td>Petrol</td>\n",
              "      <td>86</td>\n",
              "      <td>0.0</td>\n",
              "      <td>0</td>\n",
              "      <td>1300</td>\n",
              "      <td>3</td>\n",
              "      <td>1015</td>\n",
              "    </tr>\n",
              "    <tr>\n",
              "      <th>1433</th>\n",
              "      <td>1433</td>\n",
              "      <td>8500</td>\n",
              "      <td>55.672156</td>\n",
              "      <td>17016</td>\n",
              "      <td>Petrol</td>\n",
              "      <td>86</td>\n",
              "      <td>0.0</td>\n",
              "      <td>0</td>\n",
              "      <td>1300</td>\n",
              "      <td>3</td>\n",
              "      <td>1015</td>\n",
              "    </tr>\n",
              "    <tr>\n",
              "      <th>1434</th>\n",
              "      <td>1434</td>\n",
              "      <td>7250</td>\n",
              "      <td>70.000000</td>\n",
              "      <td>??</td>\n",
              "      <td>NaN</td>\n",
              "      <td>86</td>\n",
              "      <td>1.0</td>\n",
              "      <td>0</td>\n",
              "      <td>1300</td>\n",
              "      <td>3</td>\n",
              "      <td>1015</td>\n",
              "    </tr>\n",
              "    <tr>\n",
              "      <th>1435</th>\n",
              "      <td>1435</td>\n",
              "      <td>6950</td>\n",
              "      <td>76.000000</td>\n",
              "      <td>1</td>\n",
              "      <td>Petrol</td>\n",
              "      <td>110</td>\n",
              "      <td>0.0</td>\n",
              "      <td>0</td>\n",
              "      <td>1600</td>\n",
              "      <td>5</td>\n",
              "      <td>1114</td>\n",
              "    </tr>\n",
              "  </tbody>\n",
              "</table>\n",
              "<p>1436 rows × 11 columns</p>\n",
              "</div>"
            ],
            "text/plain": [
              "      Unnamed: 0  Price        Age     KM  ... Automatic    CC  Doors  Weight\n",
              "0              0  13500  23.000000  46986  ...         0  2000  three    1165\n",
              "1              1  13750  23.000000  72937  ...         0  2000      3    1165\n",
              "2              2  13950  24.000000  41711  ...         0  2000      3    1165\n",
              "3              3  14950  26.000000  48000  ...         0  2000      3    1165\n",
              "4              4  13750  30.000000  38500  ...         0  2000      3    1170\n",
              "...          ...    ...        ...    ...  ...       ...   ...    ...     ...\n",
              "1431        1431   7500  55.672156  20544  ...         0  1300      3    1025\n",
              "1432        1432  10845  72.000000     ??  ...         0  1300      3    1015\n",
              "1433        1433   8500  55.672156  17016  ...         0  1300      3    1015\n",
              "1434        1434   7250  70.000000     ??  ...         0  1300      3    1015\n",
              "1435        1435   6950  76.000000      1  ...         0  1600      5    1114\n",
              "\n",
              "[1436 rows x 11 columns]"
            ]
          },
          "execution_count": 20,
          "metadata": {},
          "output_type": "execute_result"
        }
      ],
      "source": [
        "datasets"
      ]
    },
    {
      "cell_type": "code",
      "execution_count": null,
      "metadata": {
        "colab": {
          "base_uri": "https://localhost:8080/"
        },
        "id": "1K_3bP-mOelN",
        "outputId": "51460dc3-41c5-40cf-c19c-40ec2459dc6b"
      },
      "outputs": [
        {
          "name": "stdout",
          "output_type": "stream",
          "text": [
            "\n",
            "\n",
            "New Input with Mean Value for NaN : \n",
            "\n",
            " [[0 13500.0 23.0 ... 0 2000 'three']\n",
            " [1 13750.0 23.0 ... 0 2000 '3']\n",
            " [2 13950.0 24.0 ... 0 2000 '3']\n",
            " ...\n",
            " [1433 8500.0 55.67215568862275 ... 0 1300 '3']\n",
            " [1434 7250.0 70.0 ... 0 1300 '3']\n",
            " [1435 6950.0 76.0 ... 0 1600 '5']]\n"
          ]
        }
      ],
      "source": [
        "# 4b. Imputation (Replacing null values with mean value of that attribute)\n",
        "\n",
        "# All rows, all columns except last \n",
        "new_X = datasets.iloc[:, :-1].values \n",
        "  \n",
        "# Only last column  \n",
        "new_Y = datasets.iloc[:, -1].values \n",
        "\n",
        "\n",
        "updates['Age'].fillna(updates['Age'].mean())\n",
        "\n",
        "# Using Imputer function to replace NaN values with mean of that parameter value \n",
        "imputer = SimpleImputer(missing_values = np.nan,strategy = \"mean\")\n",
        "\n",
        "# Fitting the data, function learns the stats \n",
        "imputer = imputer.fit(new_X[:, 1:3]) \n",
        "  \n",
        "# fit_transform() will execute those stats on the input ie. X[:, 1:3] \n",
        "new_X[:, 1:3] = imputer.transform(new_X[:, 1:3]) \n",
        "  \n",
        "# filling the missing value with mean \n",
        "print(\"\\n\\nNew Input with Mean Value for NaN : \\n\\n\", new_X) \n",
        "\n"
      ]
    },
    {
      "cell_type": "markdown",
      "metadata": {
        "id": "kDloVqwZO64T"
      },
      "source": [
        "Selection Correlation"
      ]
    },
    {
      "cell_type": "code",
      "execution_count": null,
      "metadata": {
        "colab": {
          "base_uri": "https://localhost:8080/",
          "height": 206
        },
        "id": "niMVtT9wPGL_",
        "outputId": "1343b5a7-0238-435a-9f56-4ff58e1b5821"
      },
      "outputs": [
        {
          "data": {
            "text/html": [
              "<div>\n",
              "<style scoped>\n",
              "    .dataframe tbody tr th:only-of-type {\n",
              "        vertical-align: middle;\n",
              "    }\n",
              "\n",
              "    .dataframe tbody tr th {\n",
              "        vertical-align: top;\n",
              "    }\n",
              "\n",
              "    .dataframe thead th {\n",
              "        text-align: right;\n",
              "    }\n",
              "</style>\n",
              "<table border=\"1\" class=\"dataframe\">\n",
              "  <thead>\n",
              "    <tr style=\"text-align: right;\">\n",
              "      <th></th>\n",
              "      <th>Unnamed: 0</th>\n",
              "      <th>Price</th>\n",
              "      <th>Age</th>\n",
              "      <th>KM</th>\n",
              "      <th>FuelType</th>\n",
              "      <th>HP</th>\n",
              "      <th>MetColor</th>\n",
              "      <th>Automatic</th>\n",
              "      <th>CC</th>\n",
              "      <th>Doors</th>\n",
              "      <th>Weight</th>\n",
              "    </tr>\n",
              "  </thead>\n",
              "  <tbody>\n",
              "    <tr>\n",
              "      <th>0</th>\n",
              "      <td>0</td>\n",
              "      <td>13500</td>\n",
              "      <td>23.0</td>\n",
              "      <td>46986</td>\n",
              "      <td>Diesel</td>\n",
              "      <td>90</td>\n",
              "      <td>1.0</td>\n",
              "      <td>0</td>\n",
              "      <td>2000</td>\n",
              "      <td>three</td>\n",
              "      <td>1165</td>\n",
              "    </tr>\n",
              "    <tr>\n",
              "      <th>1</th>\n",
              "      <td>1</td>\n",
              "      <td>13750</td>\n",
              "      <td>23.0</td>\n",
              "      <td>72937</td>\n",
              "      <td>Diesel</td>\n",
              "      <td>90</td>\n",
              "      <td>1.0</td>\n",
              "      <td>0</td>\n",
              "      <td>2000</td>\n",
              "      <td>3</td>\n",
              "      <td>1165</td>\n",
              "    </tr>\n",
              "    <tr>\n",
              "      <th>2</th>\n",
              "      <td>2</td>\n",
              "      <td>13950</td>\n",
              "      <td>24.0</td>\n",
              "      <td>41711</td>\n",
              "      <td>Diesel</td>\n",
              "      <td>90</td>\n",
              "      <td>NaN</td>\n",
              "      <td>0</td>\n",
              "      <td>2000</td>\n",
              "      <td>3</td>\n",
              "      <td>1165</td>\n",
              "    </tr>\n",
              "    <tr>\n",
              "      <th>3</th>\n",
              "      <td>3</td>\n",
              "      <td>14950</td>\n",
              "      <td>26.0</td>\n",
              "      <td>48000</td>\n",
              "      <td>Diesel</td>\n",
              "      <td>90</td>\n",
              "      <td>0.0</td>\n",
              "      <td>0</td>\n",
              "      <td>2000</td>\n",
              "      <td>3</td>\n",
              "      <td>1165</td>\n",
              "    </tr>\n",
              "    <tr>\n",
              "      <th>4</th>\n",
              "      <td>4</td>\n",
              "      <td>13750</td>\n",
              "      <td>30.0</td>\n",
              "      <td>38500</td>\n",
              "      <td>Diesel</td>\n",
              "      <td>90</td>\n",
              "      <td>0.0</td>\n",
              "      <td>0</td>\n",
              "      <td>2000</td>\n",
              "      <td>3</td>\n",
              "      <td>1170</td>\n",
              "    </tr>\n",
              "  </tbody>\n",
              "</table>\n",
              "</div>"
            ],
            "text/plain": [
              "   Unnamed: 0  Price   Age     KM  ... Automatic    CC  Doors  Weight\n",
              "0           0  13500  23.0  46986  ...         0  2000  three    1165\n",
              "1           1  13750  23.0  72937  ...         0  2000      3    1165\n",
              "2           2  13950  24.0  41711  ...         0  2000      3    1165\n",
              "3           3  14950  26.0  48000  ...         0  2000      3    1165\n",
              "4           4  13750  30.0  38500  ...         0  2000      3    1170\n",
              "\n",
              "[5 rows x 11 columns]"
            ]
          },
          "execution_count": 25,
          "metadata": {},
          "output_type": "execute_result"
        }
      ],
      "source": [
        "import numpy as np\n",
        "import pandas as pd\n",
        "import seaborn as sns\n",
        "\n",
        "data = pd.read_csv('https://raw.githubusercontent.com/ShyamCE/college/main/ML_CE081/Classroom_files/Lab-2/Exercise-CarData.csv')\n",
        "data.head()"
      ]
    },
    {
      "cell_type": "code",
      "execution_count": null,
      "metadata": {
        "colab": {
          "base_uri": "https://localhost:8080/",
          "height": 206
        },
        "id": "0VKKC6CDPUal",
        "outputId": "acda4121-b8f9-43ce-b101-dc34f0fbaf93"
      },
      "outputs": [
        {
          "data": {
            "text/html": [
              "<div>\n",
              "<style scoped>\n",
              "    .dataframe tbody tr th:only-of-type {\n",
              "        vertical-align: middle;\n",
              "    }\n",
              "\n",
              "    .dataframe tbody tr th {\n",
              "        vertical-align: top;\n",
              "    }\n",
              "\n",
              "    .dataframe thead th {\n",
              "        text-align: right;\n",
              "    }\n",
              "</style>\n",
              "<table border=\"1\" class=\"dataframe\">\n",
              "  <thead>\n",
              "    <tr style=\"text-align: right;\">\n",
              "      <th></th>\n",
              "      <th>Unnamed: 0</th>\n",
              "      <th>Price</th>\n",
              "      <th>Age</th>\n",
              "      <th>KM</th>\n",
              "      <th>FuelType</th>\n",
              "      <th>HP</th>\n",
              "      <th>MetColor</th>\n",
              "      <th>Automatic</th>\n",
              "      <th>CC</th>\n",
              "      <th>Doors</th>\n",
              "    </tr>\n",
              "  </thead>\n",
              "  <tbody>\n",
              "    <tr>\n",
              "      <th>0</th>\n",
              "      <td>0</td>\n",
              "      <td>13500</td>\n",
              "      <td>23.0</td>\n",
              "      <td>46986</td>\n",
              "      <td>Diesel</td>\n",
              "      <td>90</td>\n",
              "      <td>1.0</td>\n",
              "      <td>0</td>\n",
              "      <td>2000</td>\n",
              "      <td>three</td>\n",
              "    </tr>\n",
              "    <tr>\n",
              "      <th>1</th>\n",
              "      <td>1</td>\n",
              "      <td>13750</td>\n",
              "      <td>23.0</td>\n",
              "      <td>72937</td>\n",
              "      <td>Diesel</td>\n",
              "      <td>90</td>\n",
              "      <td>1.0</td>\n",
              "      <td>0</td>\n",
              "      <td>2000</td>\n",
              "      <td>3</td>\n",
              "    </tr>\n",
              "    <tr>\n",
              "      <th>2</th>\n",
              "      <td>2</td>\n",
              "      <td>13950</td>\n",
              "      <td>24.0</td>\n",
              "      <td>41711</td>\n",
              "      <td>Diesel</td>\n",
              "      <td>90</td>\n",
              "      <td>NaN</td>\n",
              "      <td>0</td>\n",
              "      <td>2000</td>\n",
              "      <td>3</td>\n",
              "    </tr>\n",
              "    <tr>\n",
              "      <th>3</th>\n",
              "      <td>3</td>\n",
              "      <td>14950</td>\n",
              "      <td>26.0</td>\n",
              "      <td>48000</td>\n",
              "      <td>Diesel</td>\n",
              "      <td>90</td>\n",
              "      <td>0.0</td>\n",
              "      <td>0</td>\n",
              "      <td>2000</td>\n",
              "      <td>3</td>\n",
              "    </tr>\n",
              "    <tr>\n",
              "      <th>4</th>\n",
              "      <td>4</td>\n",
              "      <td>13750</td>\n",
              "      <td>30.0</td>\n",
              "      <td>38500</td>\n",
              "      <td>Diesel</td>\n",
              "      <td>90</td>\n",
              "      <td>0.0</td>\n",
              "      <td>0</td>\n",
              "      <td>2000</td>\n",
              "      <td>3</td>\n",
              "    </tr>\n",
              "  </tbody>\n",
              "</table>\n",
              "</div>"
            ],
            "text/plain": [
              "   Unnamed: 0  Price   Age     KM  ... MetColor Automatic    CC  Doors\n",
              "0           0  13500  23.0  46986  ...      1.0         0  2000  three\n",
              "1           1  13750  23.0  72937  ...      1.0         0  2000      3\n",
              "2           2  13950  24.0  41711  ...      NaN         0  2000      3\n",
              "3           3  14950  26.0  48000  ...      0.0         0  2000      3\n",
              "4           4  13750  30.0  38500  ...      0.0         0  2000      3\n",
              "\n",
              "[5 rows x 10 columns]"
            ]
          },
          "execution_count": 26,
          "metadata": {},
          "output_type": "execute_result"
        }
      ],
      "source": [
        "data=data.iloc[:,:-1]\n",
        "data.head()"
      ]
    },
    {
      "cell_type": "code",
      "execution_count": null,
      "metadata": {
        "colab": {
          "base_uri": "https://localhost:8080/"
        },
        "id": "nKd64E9IPaoW",
        "outputId": "525bc053-2456-41ec-8e81-1cf18f427746"
      },
      "outputs": [
        {
          "name": "stdout",
          "output_type": "stream",
          "text": [
            "<class 'pandas.core.frame.DataFrame'>\n",
            "RangeIndex: 1436 entries, 0 to 1435\n",
            "Data columns (total 10 columns):\n",
            " #   Column      Non-Null Count  Dtype  \n",
            "---  ------      --------------  -----  \n",
            " 0   Unnamed: 0  1436 non-null   int64  \n",
            " 1   Price       1436 non-null   int64  \n",
            " 2   Age         1336 non-null   float64\n",
            " 3   KM          1436 non-null   object \n",
            " 4   FuelType    1336 non-null   object \n",
            " 5   HP          1436 non-null   object \n",
            " 6   MetColor    1286 non-null   float64\n",
            " 7   Automatic   1436 non-null   int64  \n",
            " 8   CC          1436 non-null   int64  \n",
            " 9   Doors       1436 non-null   object \n",
            "dtypes: float64(2), int64(4), object(4)\n",
            "memory usage: 112.3+ KB\n"
          ]
        }
      ],
      "source": [
        "data.info()"
      ]
    },
    {
      "cell_type": "code",
      "execution_count": null,
      "metadata": {
        "colab": {
          "base_uri": "https://localhost:8080/",
          "height": 206
        },
        "id": "BdG4s2BMPdl_",
        "outputId": "b82f6052-f03d-4fc3-ddeb-33440dc2d381"
      },
      "outputs": [
        {
          "data": {
            "text/html": [
              "<div>\n",
              "<style scoped>\n",
              "    .dataframe tbody tr th:only-of-type {\n",
              "        vertical-align: middle;\n",
              "    }\n",
              "\n",
              "    .dataframe tbody tr th {\n",
              "        vertical-align: top;\n",
              "    }\n",
              "\n",
              "    .dataframe thead th {\n",
              "        text-align: right;\n",
              "    }\n",
              "</style>\n",
              "<table border=\"1\" class=\"dataframe\">\n",
              "  <thead>\n",
              "    <tr style=\"text-align: right;\">\n",
              "      <th></th>\n",
              "      <th>Unnamed: 0</th>\n",
              "      <th>Price</th>\n",
              "      <th>Age</th>\n",
              "      <th>MetColor</th>\n",
              "      <th>Automatic</th>\n",
              "      <th>CC</th>\n",
              "    </tr>\n",
              "  </thead>\n",
              "  <tbody>\n",
              "    <tr>\n",
              "      <th>Unnamed: 0</th>\n",
              "      <td>1.000000</td>\n",
              "      <td>-0.738289</td>\n",
              "      <td>0.907090</td>\n",
              "      <td>-0.078616</td>\n",
              "      <td>0.066299</td>\n",
              "      <td>-0.184490</td>\n",
              "    </tr>\n",
              "    <tr>\n",
              "      <th>Price</th>\n",
              "      <td>-0.738289</td>\n",
              "      <td>1.000000</td>\n",
              "      <td>-0.878407</td>\n",
              "      <td>0.112041</td>\n",
              "      <td>0.033081</td>\n",
              "      <td>0.165067</td>\n",
              "    </tr>\n",
              "    <tr>\n",
              "      <th>Age</th>\n",
              "      <td>0.907090</td>\n",
              "      <td>-0.878407</td>\n",
              "      <td>1.000000</td>\n",
              "      <td>-0.099659</td>\n",
              "      <td>0.032573</td>\n",
              "      <td>-0.120706</td>\n",
              "    </tr>\n",
              "    <tr>\n",
              "      <th>MetColor</th>\n",
              "      <td>-0.078616</td>\n",
              "      <td>0.112041</td>\n",
              "      <td>-0.099659</td>\n",
              "      <td>1.000000</td>\n",
              "      <td>-0.013973</td>\n",
              "      <td>0.029189</td>\n",
              "    </tr>\n",
              "    <tr>\n",
              "      <th>Automatic</th>\n",
              "      <td>0.066299</td>\n",
              "      <td>0.033081</td>\n",
              "      <td>0.032573</td>\n",
              "      <td>-0.013973</td>\n",
              "      <td>1.000000</td>\n",
              "      <td>-0.069321</td>\n",
              "    </tr>\n",
              "  </tbody>\n",
              "</table>\n",
              "</div>"
            ],
            "text/plain": [
              "            Unnamed: 0     Price       Age  MetColor  Automatic        CC\n",
              "Unnamed: 0    1.000000 -0.738289  0.907090 -0.078616   0.066299 -0.184490\n",
              "Price        -0.738289  1.000000 -0.878407  0.112041   0.033081  0.165067\n",
              "Age           0.907090 -0.878407  1.000000 -0.099659   0.032573 -0.120706\n",
              "MetColor     -0.078616  0.112041 -0.099659  1.000000  -0.013973  0.029189\n",
              "Automatic     0.066299  0.033081  0.032573 -0.013973   1.000000 -0.069321"
            ]
          },
          "execution_count": 28,
          "metadata": {},
          "output_type": "execute_result"
        }
      ],
      "source": [
        "corr=data.corr()\n",
        "corr.head()"
      ]
    },
    {
      "cell_type": "code",
      "execution_count": null,
      "metadata": {
        "colab": {
          "base_uri": "https://localhost:8080/",
          "height": 338
        },
        "id": "fZGQ86qjPlc1",
        "outputId": "6fca871e-c0d3-415a-c8f2-03a2c5f5a335"
      },
      "outputs": [
        {
          "data": {
            "text/plain": [
              "<matplotlib.axes._subplots.AxesSubplot at 0x7f5386374c10>"
            ]
          },
          "execution_count": 30,
          "metadata": {},
          "output_type": "execute_result"
        },
        {
          "data": {
            "image/png": "[encoded data removed]",
            "text/plain": [
              "<Figure size 432x288 with 2 Axes>"
            ]
          },
          "metadata": {
            "needs_background": "light"
          },
          "output_type": "display_data"
        }
      ],
      "source": [
        "sns.heatmap(corr)"
      ]
    }
  ],
  "metadata": {
    "colab": {
      "collapsed_sections": [],
      "name": "ML_Lab2.ipynb",
      "provenance": []
    },
    "kernelspec": {
      "display_name": "Python 3",
      "name": "python3"
    },
    "language_info": {
      "codemirror_mode": {
        "name": "ipython",
        "version": 3
      },
      "file_extension": ".py",
      "mimetype": "text/x-python",
      "name": "python",
      "nbconvert_exporter": "python",
      "pygments_lexer": "ipython3",
      "version": "3.10.2"
    }
  },
  "nbformat": 4,
  "nbformat_minor": 0
}
