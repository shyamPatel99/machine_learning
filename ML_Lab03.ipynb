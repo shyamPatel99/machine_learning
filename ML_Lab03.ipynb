{
  "cells": [
    {
      "cell_type": "markdown",
      "metadata": {
        "id": "KDU8cPu2XMst"
      },
      "source": [
        "Naive Bayes Implementation:"
      ]
    },
    {
      "cell_type": "code",
      "execution_count": 9,
      "metadata": {
        "colab": {
          "base_uri": "https://localhost:8080/"
        },
        "id": "RjPao7q_XJho",
        "outputId": "53b7c442-df4b-4595-edac-72679f125ce3"
      },
      "outputs": [
        {
          "name": "stdout",
          "output_type": "stream",
          "text": [
            "Weather Encoded:\n",
            " [2 2 0 1 1 1 0 2 2 1 2 0 0 1]\n",
            "Temp Encoded:\n",
            " [1 1 1 2 0 0 0 2 0 2 2 2 1 2]\n",
            "Labels:\n",
            " [0 0 1 1 1 0 1 0 1 1 1 1 1 0]\n",
            "Features Are:\n",
            " ((2, 1), (2, 1), (0, 1), (1, 2), (1, 0), (1, 0), (0, 0), (2, 2), (2, 0), (1, 2), (2, 2), (0, 2), (0, 1), (1, 2))\n",
            "OVERCAST & HOT:  [1]\n",
            "SUNNY & MILD:  [1]\n",
            "Probability:  [[0.36151612 0.63848388]]\n"
          ]
        }
      ],
      "source": [
        "#IMPORTING LIBRARIES\n",
        "from sklearn import preprocessing\n",
        "from sklearn.naive_bayes import GaussianNB, MultinomialNB\n",
        "\n",
        "#CREATING DATASETS\n",
        "weather = ['Sunny', 'Sunny', 'Overcast', 'Rainy', 'Rainy','Rainy', 'Overcast',\n",
        "'Sunny', 'Sunny', 'Rainy', 'Sunny', 'Overcast', 'Overcast', 'Rainy']\n",
        "\n",
        "temp = ['Hot','Hot','Hot','Mild','Cool','Cool','Cool','Mild',\n",
        "'Cool','Mild','Mild','Mild','Hot','Mild']\n",
        "\n",
        "play=['No','No','Yes','Yes','Yes','No','Yes','No','Yes',\n",
        "'Yes','Yes','Yes','Yes','No']\n",
        "\n",
        "#DIGITIZING DATA FROM THE SET\n",
        "digi=preprocessing.LabelEncoder()\n",
        "\n",
        "#CONVERTING STRINGS FROM SET INTO NUMBERS\n",
        "weather_encoded=digi.fit_transform(weather)\n",
        "print(\"Weather Encoded:\\n\",weather_encoded)\n",
        "temp_encoded=digi.fit_transform(temp)\n",
        "print(\"Temp Encoded:\\n\",temp_encoded)\n",
        "labels=digi.fit_transform(play)\n",
        "print(\"Labels:\\n\",labels)\n",
        "\n",
        "#COMBINING THE WEATHER & TEMP FEATURES IN THE LIST OF STRINGS\n",
        "features=tuple(zip(weather_encoded,temp_encoded))\n",
        "print(\"Features Are:\\n\",features)\n",
        "\n",
        "#CREATING AND TRAINING NAIVE CLASSIFER\n",
        "model=MultinomialNB()\n",
        "model.fit(features,labels)\n",
        "\n",
        "#PREDICTION ON NEW DATA\n",
        "prediction=model.predict([[0,1]])\n",
        "print(\"OVERCAST & HOT: \",prediction)\n",
        "prediction=model.predict([[2,2]])\n",
        "print(\"SUNNY & MILD: \",prediction)\n",
        "\n",
        "print(\"Probability: \",model.predict_proba([[2,2]]))\n"
      ]
    },
    {
      "cell_type": "markdown",
      "metadata": {
        "id": "7YMDVt_ZiH8j"
      },
      "source": [
        "Gaussian Naive Bayes"
      ]
    },
    {
      "cell_type": "code",
      "execution_count": 10,
      "metadata": {
        "colab": {
          "base_uri": "https://localhost:8080/"
        },
        "id": "zIaiyDvaijrT",
        "outputId": "1a94bdca-c361-4728-9b58-e6307d0173a8"
      },
      "outputs": [
        {
          "name": "stdout",
          "output_type": "stream",
          "text": [
            "Features:  ['sepal length (cm)', 'sepal width (cm)', 'petal length (cm)', 'petal width (cm)']\n",
            "Labels:  ['setosa' 'versicolor' 'virginica']\n",
            "Data Shape:  (150, 4)\n",
            "Data Target:  (150,)\n",
            "Data Type:  <class 'numpy.ndarray'>\n",
            "New Data:  (100, 4)\n",
            "New Target:  (100,)\n"
          ]
        }
      ],
      "source": [
        "import numpy as np\n",
        "from sklearn import datasets,metrics\n",
        "\n",
        "#LOADING DATASETs\n",
        "iris=datasets.load_iris()\n",
        "print(\"Features: \",iris.feature_names) \n",
        "#LABELS\n",
        "print(\"Labels: \",iris.target_names)\n",
        "\n",
        "#DATA(FEATURES)\n",
        "print(\"Data Shape: \",iris.data.shape)\n",
        "\n",
        "#DATA(TARGET)\n",
        "print(\"Data Target: \",iris.target.shape)\n",
        "\n",
        "print(\"Data Type: \",type(iris.data))\n",
        "\n",
        "#New Data\n",
        "newdata=iris.data[50:,:]\n",
        "newtarget=iris.target[50:]\n",
        "print(\"New Data: \",newdata.shape)\n",
        "print(\"New Target: \",newtarget.shape)"
      ]
    },
    {
      "cell_type": "code",
      "execution_count": 11,
      "metadata": {
        "colab": {
          "base_uri": "https://localhost:8080/"
        },
        "id": "KAj47bY7mcTF",
        "outputId": "838b3a87-91db-423e-ab45-4829bbfe70cf"
      },
      "outputs": [
        {
          "name": "stdout",
          "output_type": "stream",
          "text": [
            "[2 1 1 1 2 1 1 2 1 1 2 1 2 1 2 1 1 2 1 1 2 1 1 1 1 1 2 2 2 2]\n",
            "Accurarcy:  0.9\n",
            "Precision:0.8888888888888888 \n",
            "Recall:0.9411764705882353 \n"
          ]
        }
      ],
      "source": [
        "from sklearn.model_selection import train_test_split\n",
        "import numpy as np\n",
        "from sklearn.metrics import confusion_matrix,precision_score,recall_score\n",
        "data_train,data_test,traget_train,target_test=train_test_split(newdata,newtarget,test_size=0.30,random_state=5)\n",
        "\n",
        "gnb=GaussianNB()\n",
        "gnb.fit(data_train,traget_train)\n",
        "target_pred=gnb.predict(data_test)\n",
        "print(target_pred)\n",
        "print(\"Accurarcy: \",metrics.accuracy_score(target_test,target_pred))\n",
        "confusion_matrix(target_test,target_pred)\n",
        "precision=precision_score(target_test,target_pred)\n",
        "print(\"Precision:{} \".format(precision))\n",
        "recall=recall_score(target_test,target_pred)\n",
        "print(\"Recall:{} \".format(recall))"
      ]
    },
    {
      "cell_type": "markdown",
      "metadata": {
        "id": "bjdJoiCnpLrW"
      },
      "source": [
        "Exersices"
      ]
    },
    {
      "cell_type": "code",
      "execution_count": 12,
      "metadata": {
        "colab": {
          "base_uri": "https://localhost:8080/"
        },
        "id": "YoqESoZgpsOL",
        "outputId": "7e5eb0d4-d8fb-4303-f465-5274f1d84c59"
      },
      "outputs": [
        {
          "name": "stdout",
          "output_type": "stream",
          "text": [
            "Features:  ((1, 1, 2, 0), (1, 1, 0, 1), (0, 1, 2, 0), (2, 2, 2, 0), (2, 2, 2, 0), (2, 2, 1, 1), (0, 0, 2, 1), (1, 0, 2, 0), (1, 0, 1, 0), (2, 2, 0, 0), (1, 2, 0, 1), (0, 2, 1, 1), (0, 1, 2, 0), (2, 2, 2, 1))\n",
            "[[0. 1. 0. 0. 1. 1. 1. 0.]\n",
            " [1. 0. 1. 0. 0. 1. 0. 1.]\n",
            " [1. 0. 0. 1. 0. 1. 1. 0.]]\n",
            "  Outlook Temp Wind Humidity Class  Prediction 0  Prediction 1  Prediction 2  \\\n",
            "0       R    H    F   Normal     N           0.0           1.0           0.0   \n",
            "1       R    H    T     High     N           1.0           0.0           1.0   \n",
            "2       O    H    F   Normal     Y           1.0           0.0           0.0   \n",
            "3       S    M    F   Normal     N           NaN           NaN           NaN   \n",
            "4       S    M    F   Normal     Y           NaN           NaN           NaN   \n",
            "\n",
            "   Prediction 3  Prediction 4  Prediction 5  Prediction 6  Prediction 7  \n",
            "0           0.0           1.0           1.0           1.0           0.0  \n",
            "1           0.0           0.0           1.0           0.0           1.0  \n",
            "2           1.0           0.0           1.0           1.0           0.0  \n",
            "3           NaN           NaN           NaN           NaN           NaN  \n",
            "4           NaN           NaN           NaN           NaN           NaN  \n"
          ]
        }
      ],
      "source": [
        "from sklearn import preprocessing\n",
        "from sklearn.preprocessing import OneHotEncoder\n",
        "import pandas as pd\n",
        "from sklearn.model_selection import train_test_split\n",
        "from sklearn.naive_bayes import GaussianNB, MultinomialNB\n",
        "from sklearn import metrics\n",
        "from sklearn.metrics import confusion_matrix,precision_score,recall_score\n",
        "\n",
        "datasets=pd.read_csv('https://raw.githubusercontent.com/ShyamCE/college/main/ML_CE081/Classroom_files/Lab-3/Dataset2.csv')\n",
        "le=preprocessing.LabelEncoder()\n",
        "\n",
        "outlook=datasets[['Outlook']].to_numpy().flatten()\n",
        "temp=datasets[['Temp']].to_numpy().flatten()\n",
        "humidity=datasets[['Humidity']].to_numpy().flatten()\n",
        "wind=datasets[['Wind']].to_numpy().flatten()\n",
        "play=datasets[['Class']].to_numpy().flatten()\n",
        "\n",
        "outlook_encoded=le.fit_transform(outlook)\n",
        "temp_encoded=le.fit_transform(temp)\n",
        "hum_encoded=le.fit_transform(humidity)\n",
        "wind_encoded=le.fit_transform(wind)\n",
        "play_encoded=le.fit_transform(play)\n",
        "\n",
        "\n",
        "features=tuple(zip(outlook_encoded,temp_encoded,hum_encoded,wind_encoded))\n",
        "print(\"Features: \",features)\n",
        "data_train,data_test,target_train,target_test=train_test_split(features,play,test_size=0.75,train_size=0.25,random_state=80)\n",
        "onehotCoder=OneHotEncoder()\n",
        "x=  onehotCoder.fit_transform(data_train,target_train).toarray()\n",
        "print(x)\n",
        "\n",
        "dfOneHot=pd.DataFrame(x,columns=[\"Prediction \"+str(int(i)) for i in range(x.shape[1])])\n",
        "df=pd.concat([datasets,dfOneHot],axis=1)\n",
        "print(df.head())"
      ]
    },
    {
      "cell_type": "code",
      "execution_count": 13,
      "metadata": {
        "colab": {
          "base_uri": "https://localhost:8080/"
        },
        "id": "oTkxwYmnVvIH",
        "outputId": "a4d6b6ab-36ee-4dcf-9b7d-8306deef08de"
      },
      "outputs": [
        {
          "name": "stdout",
          "output_type": "stream",
          "text": [
            "Features:  ['alcohol', 'malic_acid', 'ash', 'alcalinity_of_ash', 'magnesium', 'total_phenols', 'flavanoids', 'nonflavanoid_phenols', 'proanthocyanins', 'color_intensity', 'hue', 'od280/od315_of_diluted_wines', 'proline']\n",
            "Labels:  ['class_0' 'class_1' 'class_2']\n",
            "Data Shape:  (178, 13)\n",
            "Data Target:  (178,)\n",
            "Data Type:  <class 'numpy.ndarray'>\n",
            "New Data:  (100, 4)\n",
            "New Target:  (100,)\n",
            "[1 2 2 2 2 1 2 2 1 1 2 1 1 1 2 2 2 2 2 1 1 1 1 2 2 1 2 1 2 2 1 2 1 2 1 1 1\n",
            " 1 2 2 2 2 2 1 1 1 1 2 1 2 2 1 2 2 2 2 2 2 1 2 1 1 2 2 2 1 1 2 1 2 1 2 2 1\n",
            " 2 2 1 1 1 1]\n",
            "Accurarcy:  0.925\n",
            "Precision:0.9459459459459459 \n",
            "Recall:0.8974358974358975 \n"
          ]
        }
      ],
      "source": [
        "#IMPORTING LIBRARIES\n",
        "from sklearn import preprocessing\n",
        "from sklearn.naive_bayes import GaussianNB, MultinomialNB\n",
        "from sklearn import metrics,datasets\n",
        "from sklearn.model_selection import train_test_split\n",
        "import numpy as np\n",
        "from sklearn.metrics import confusion_matrix,precision_score,recall_score\n",
        "\n",
        "wine=datasets.load_wine()\n",
        "#DIGITIZING DATA FROM THE SET\n",
        "digi=preprocessing.LabelEncoder()\n",
        "print(\"Features: \",wine.feature_names) \n",
        "#LABELS\n",
        "print(\"Labels: \",wine.target_names)\n",
        "\n",
        "#DATA(FEATURES)\n",
        "print(\"Data Shape: \",wine.data.shape)\n",
        "\n",
        "#DATA(TARGET)\n",
        "print(\"Data Target: \",wine.target.shape)\n",
        "\n",
        "print(\"Data Type: \",type(iris.data))\n",
        "\n",
        "#New Data\n",
        "newdata=iris.data[50:,:]\n",
        "newtarget=iris.target[50:]\n",
        "print(\"New Data: \",newdata.shape)\n",
        "print(\"New Target: \",newtarget.shape)\n",
        "data_train,data_test,traget_train,target_test=train_test_split(newdata,newtarget,test_size=0.80,train_size=0.20,random_state=80)\n",
        "\n",
        "gnb=GaussianNB()\n",
        "gnb.fit(data_train,traget_train)\n",
        "target_pred=gnb.predict(data_test)\n",
        "print(target_pred)\n",
        "print(\"Accurarcy: \",metrics.accuracy_score(target_test,target_pred))\n",
        "confusion_matrix(target_test,target_pred)\n",
        "precision=precision_score(target_test,target_pred)\n",
        "print(\"Precision:{} \".format(precision))\n",
        "recall=recall_score(target_test,target_pred)\n",
        "print(\"Recall:{} \".format(recall))"
      ]
    }
  ],
  "metadata": {
    "colab": {
      "collapsed_sections": [],
      "name": "ML_LAB3.ipynb",
      "provenance": []
    },
    "kernelspec": {
      "display_name": "Python 3",
      "name": "python3"
    },
    "language_info": {
      "name": "python"
    }
  },
  "nbformat": 4,
  "nbformat_minor": 0
}
